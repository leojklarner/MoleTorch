{
 "cells": [
  {
   "cell_type": "markdown",
   "metadata": {
    "id": "-cYFexfNnoIv"
   },
   "source": [
    "# Bayesian GNNs for Molecular Property Prediction\n",
    "\n",
    "**In this notebook, we will train Bayesian GNNs and compare their regression performance to GPs.**\n",
    "\n",
    "We will compare the molecular property prediction performance of Bayesian GNNs, inspired by Hwang et al. 2020 (https://pubs.acs.org/doi/abs/10.1021/acs.jcim.0c00416). The feature extractor used here is the GIN architecture, with the same graph features used in the graph kernel experiments. Here we rely on a final Bayesian linear layers from Bayesian-Torch (https://github.com/IntelLabs/bayesian-torch).\n",
    "\n",
    "The densely connected final layer will have weight *distributions* rather than deterministic weights. The uncertainty of the model will be obtained by repeatedly sampling the network for predictions. We recommend using the CUDA to increase the speed of training the GNN."
   ]
  },
  {
   "cell_type": "markdown",
   "metadata": {
    "id": "i5PrSkKEnoIy"
   },
   "source": [
    "## Install and import dependencies"
   ]
  },
  {
   "cell_type": "code",
   "execution_count": 1,
   "metadata": {
    "id": "iwGJ6BymnpLf"
   },
   "outputs": [],
   "source": [
    "# install gauche and other dependencies\n",
    "\n",
    "%%capture\n",
    "!pip install gauche[graphs] bayesian-torch torch_geometric"
   ]
  },
  {
   "cell_type": "code",
   "execution_count": 2,
   "metadata": {
    "id": "uEnv8LKEnoIz",
    "scrolled": true
   },
   "outputs": [],
   "source": [
    "import os, sys\n",
    "sys.path.append('..')\n",
    "from tqdm import tqdm\n",
    "import copy\n",
    "\n",
    "import warnings\n",
    "warnings.filterwarnings(\"ignore\")\n",
    "\n",
    "# import sklearn\n",
    "from gauche.dataloader import MolPropLoader\n",
    "from gauche.dataloader.data_utils import transform_data\n",
    "\n",
    "import pandas as pd\n",
    "import numpy as np\n",
    "import rdkit.Chem.AllChem as Chem\n",
    "import matplotlib.pyplot as plt\n",
    "\n",
    "from scipy.stats import norm\n",
    "\n",
    "from sklearn.model_selection import train_test_split\n",
    "from sklearn.metrics import mean_absolute_error, mean_squared_error, r2_score\n",
    "\n",
    "import torch\n",
    "import torch.nn as nn\n",
    "import torch.nn.functional as F\n",
    "\n",
    "from torch_geometric.data import Data\n",
    "from torch_geometric.nn import MessagePassing, global_mean_pool\n",
    "from torch_geometric.loader import DataLoader\n",
    "from torch_geometric.utils import add_self_loops\n",
    "from bayesian_torch.layers import LinearFlipout, LinearReparameterization"
   ]
  },
  {
   "cell_type": "markdown",
   "metadata": {
    "id": "crCTmkG4yOkK"
   },
   "source": [
    "## Featurise Molecules and PyTorch Geometric Graphs\n",
    "\n",
    "To train GNNs on molecular data, we first need to featurise the molecules and convert them into PyTorch Geometric Data objects. We will represent each molecule as a graph with atoms as nodes and bonds as edges, using element numbers and chirality as node features and bond type and E/Z double bond stereo information as edge labels. To apply this featuriser to the benchmark datasets, we will simply provide it as a custom featuriser to the `MolPropLoader().featurize` function."
   ]
  },
  {
   "cell_type": "code",
   "execution_count": 3,
   "metadata": {
    "id": "ib_ICE84o4r7"
   },
   "outputs": [],
   "source": [
    "# define a custom PyTorch Geometric featuriser that captures\n",
    "# element number, bond types and chirality\n",
    "\n",
    "allowable_features = {\n",
    "    \"possible_atomic_num_list\": list(range(1, 119)),\n",
    "    \"possible_chirality_list\": [\n",
    "        Chem.rdchem.ChiralType.CHI_UNSPECIFIED,\n",
    "        Chem.rdchem.ChiralType.CHI_TETRAHEDRAL_CW,\n",
    "        Chem.rdchem.ChiralType.CHI_TETRAHEDRAL_CCW,\n",
    "        Chem.rdchem.ChiralType.CHI_OTHER,\n",
    "    ],\n",
    "    \"possible_bonds\": [\n",
    "        Chem.rdchem.BondType.SINGLE,\n",
    "        Chem.rdchem.BondType.DOUBLE,\n",
    "        Chem.rdchem.BondType.TRIPLE,\n",
    "        Chem.rdchem.BondType.AROMATIC,\n",
    "    ],\n",
    "    # (E)/(Z) double bond stereo information\n",
    "    \"possible_bond_dirs\": [\n",
    "        Chem.rdchem.BondDir.NONE,\n",
    "        Chem.rdchem.BondDir.ENDUPRIGHT,\n",
    "        Chem.rdchem.BondDir.ENDDOWNRIGHT,\n",
    "    ],\n",
    "}\n",
    "\n",
    "# define constants for featurisation and embedding\n",
    "num_atom_type = 120  # including the extra mask tokens\n",
    "num_chirality_tag = 3\n",
    "num_bond_type = 6  # including aromatic and self-loop edge, and extra masked tokens\n",
    "num_bond_direction = 3\n",
    "self_loop_token = 4  # bond type for self-loop edge\n",
    "masked_bond_token = 5  # bond type for masked edges\n",
    "\n",
    "\n",
    "def mol_to_pyg(smiles):\n",
    "    \"\"\"\n",
    "    A featuriser that accepts an smiles STRING and\n",
    "    converts it to a PyTorch Geometric data object that\n",
    "    is compatible with the GNN modules below.\n",
    "    Args:\n",
    "        smiles: SMILES string\n",
    "    Returns: PyTorch Geometric data object\n",
    "    \"\"\"\n",
    "\n",
    "    mol = Chem.MolFromSmiles(smiles)\n",
    "\n",
    "    # derive atom features: atomic number + chirality tag\n",
    "    atom_features = []\n",
    "    for atom in mol.GetAtoms():\n",
    "        atom_features.append(\n",
    "            [\n",
    "                allowable_features[\"possible_atomic_num_list\"].index(\n",
    "                    atom.GetAtomicNum()\n",
    "                ),\n",
    "                allowable_features[\"possible_chirality_list\"].index(\n",
    "                    atom.GetChiralTag()\n",
    "                ),\n",
    "            ]\n",
    "        )\n",
    "    atom_features = torch.tensor(np.array(atom_features), dtype=torch.long)\n",
    "\n",
    "    # derive bond features: bond type + bond direction\n",
    "    # PyTorch Geometric only uses directed edges,\n",
    "    # so feature information needs to be added twice\n",
    "    edge_index = []\n",
    "    edge_attr = []\n",
    "    for bond in mol.GetBonds():\n",
    "        i = bond.GetBeginAtomIdx()\n",
    "        j = bond.GetEndAtomIdx()\n",
    "        edge_index.append((i, j))\n",
    "        edge_index.append((j, i))\n",
    "\n",
    "        # calculate edge features and append them to feature list\n",
    "        edge_feature = [\n",
    "            allowable_features[\"possible_bonds\"].index(bond.GetBondType()),\n",
    "            allowable_features[\"possible_bond_dirs\"].index(bond.GetBondDir()),\n",
    "        ]\n",
    "        edge_attr.append(edge_feature)\n",
    "        edge_attr.append(edge_feature)\n",
    "\n",
    "    # set data.edge_index: Graph connectivity in COO format with shape [2, num_edges]\n",
    "    edge_index = torch.tensor(np.array(edge_index).T, dtype=torch.long)\n",
    "\n",
    "    # set data.edge_attr: Edge feature matrix with shape [num_edges, num_edge_features]\n",
    "    edge_attr = torch.tensor(np.array(edge_attr), dtype=torch.long)\n",
    "\n",
    "    return Data(x=atom_features, edge_index=edge_index, edge_attr=edge_attr)"
   ]
  },
  {
   "cell_type": "code",
   "execution_count": 4,
   "metadata": {
    "colab": {
     "base_uri": "https://localhost:8080/"
    },
    "id": "eFdXDnzoyOkM",
    "outputId": "719b7551-683f-4936-a657-85ed2c82de94"
   },
   "outputs": [
    {
     "name": "stdout",
     "output_type": "stream",
     "text": [
      "Found 13 invalid labels [nan nan nan nan nan nan nan nan nan nan nan nan nan] at indices [41, 42, 43, 44, 45, 46, 47, 48, 49, 50, 51, 52, 158]\n",
      "To turn validation off, use dataloader.read_csv(..., validate=False).\n"
     ]
    }
   ],
   "source": [
    "# load PhotoSwitch dataset and apply mol_to_pyg featuriser\n",
    "\n",
    "dataset = \"Photoswitch\"\n",
    "\n",
    "loader = MolPropLoader()\n",
    "loader.load_benchmark(\"Photoswitch\")\n",
    "loader.featurize(lambda smiles: [mol_to_pyg(s) for s in smiles])"
   ]
  },
  {
   "cell_type": "markdown",
   "metadata": {
    "id": "wbeZ2_wDyOkN"
   },
   "source": [
    "## Define GIN Layers and GNN\n",
    "\n",
    "Next, we need to define the GNN architecture. We will use Graph Isomorphism Network (GIN) convolutions from [Xu et al., How Powerful are Graph Neural Networks?](https://arxiv.org/abs/1810.00826) defined in the `GINConv` class. The `GNN` class stacks multiple `GINConv` layers and applies batch normalisation and a final linear layer to map the node representations to the desired output dimension."
   ]
  },
  {
   "cell_type": "code",
   "execution_count": 5,
   "metadata": {
    "id": "-5LfQtcNp1OH"
   },
   "outputs": [],
   "source": [
    "class GINConv(MessagePassing):\n",
    "    \"\"\"\n",
    "    Extension of the Graph Isomorphism Network to incorporate\n",
    "    edge information by concatenating edge embeddings.\n",
    "    \"\"\"\n",
    "\n",
    "    def __init__(self, emb_dim, aggr=\"add\"):\n",
    "        \"\"\"\n",
    "        Initialise GIN convolutional layer.\n",
    "        Args:\n",
    "            emb_dim: latent node embedding dimension\n",
    "            aggr: aggregation procedure\n",
    "        \"\"\"\n",
    "        super(GINConv, self).__init__()\n",
    "\n",
    "        self.mlp = torch.nn.Sequential(\n",
    "            torch.nn.Linear(emb_dim, 2 * emb_dim),\n",
    "            torch.nn.ReLU(),\n",
    "            torch.nn.Linear(2 * emb_dim, emb_dim),\n",
    "        )\n",
    "\n",
    "        self.edge_embedding1 = torch.nn.Embedding(num_bond_type, emb_dim)\n",
    "        self.edge_embedding2 = torch.nn.Embedding(num_bond_direction, emb_dim)\n",
    "        torch.nn.init.xavier_uniform_(self.edge_embedding1.weight.data)\n",
    "        torch.nn.init.xavier_uniform_(self.edge_embedding2.weight.data)\n",
    "\n",
    "        self.aggr = aggr\n",
    "\n",
    "    def forward(self, x, edge_index, edge_attr):\n",
    "        \"\"\"\n",
    "        Message passing and aggregation function\n",
    "        of the adapted GIN convolutional layer.\n",
    "        Args:\n",
    "            x: node features\n",
    "            edge_index: adjacency list\n",
    "            edge_attr: edge features\n",
    "        Returns: transformed and aggregated node embeddings\n",
    "        \"\"\"\n",
    "\n",
    "        # add self loops to edge index\n",
    "        edge_index, _ = add_self_loops(edge_index, num_nodes=x.size(0))\n",
    "\n",
    "        # update edge attributes to represent self-loop edges\n",
    "        self_loop_attr = torch.zeros(x.size(0), 2)\n",
    "        self_loop_attr[:, 0] = self_loop_token\n",
    "        self_loop_attr = self_loop_attr.to(edge_attr.device).to(\n",
    "            edge_attr.dtype\n",
    "        )\n",
    "        edge_attr = torch.cat((edge_attr, self_loop_attr), dim=0)\n",
    "\n",
    "        # generate edge embeddings and propagate\n",
    "        edge_embeddings = self.edge_embedding1(\n",
    "            edge_attr[:, 0]\n",
    "        ) + self.edge_embedding2(edge_attr[:, 1])\n",
    "        return self.propagate(edge_index, x=x, edge_attr=edge_embeddings)\n",
    "\n",
    "    def message(self, x_j, edge_attr):\n",
    "        return x_j + edge_attr\n",
    "\n",
    "    def update(self, aggr_out):\n",
    "        return self.mlp(aggr_out)\n",
    "\n",
    "\n",
    "class GNN(torch.nn.Module):\n",
    "    \"\"\"\n",
    "    Combine multiple GNN layers into a network.\n",
    "    \"\"\"\n",
    "\n",
    "    def __init__(self, num_layers=5, embed_dim=300, gnn_type=\"gin\"):\n",
    "        \"\"\"\n",
    "        Compose convolution layers into GNN. Pretrained parameters\n",
    "        exist for a 5-layer network with 300 hidden units.\n",
    "        Args:\n",
    "            num_layers: number of convolution layers\n",
    "            embed_dim: dimension of node embeddings\n",
    "            gnn_type: type of convolutional layer to use\n",
    "        \"\"\"\n",
    "\n",
    "        self.num_layers = num_layers\n",
    "        self.embed_dim = embed_dim\n",
    "        self.gnn_type = gnn_type\n",
    "\n",
    "        super(GNN, self).__init__()\n",
    "\n",
    "        # initialise label embeddings\n",
    "        self.x_embedding1 = torch.nn.Embedding(num_atom_type, self.embed_dim)\n",
    "        self.x_embedding2 = torch.nn.Embedding(\n",
    "            num_chirality_tag, self.embed_dim\n",
    "        )\n",
    "        torch.nn.init.xavier_uniform_(self.x_embedding1.weight.data)\n",
    "        torch.nn.init.xavier_uniform_(self.x_embedding2.weight.data)\n",
    "\n",
    "        # initialise GNN layers\n",
    "        self.gnns = torch.nn.ModuleList()\n",
    "        for layer in range(self.num_layers):\n",
    "            if gnn_type == \"gin\":\n",
    "                self.gnns.append(GINConv(emb_dim=self.embed_dim))\n",
    "            else:\n",
    "                raise NotImplementedError(\"Invalid GNN layer type.\")\n",
    "\n",
    "        # initialise BatchNorm layers\n",
    "        self.batch_norms = torch.nn.ModuleList()\n",
    "        for layer in range(self.num_layers):\n",
    "            self.batch_norms.append(torch.nn.BatchNorm1d(self.embed_dim))\n",
    "\n",
    "    def forward(self, x, edge_index, edge_attr):\n",
    "        \"\"\"\n",
    "        Forward function of the GNN class that takes a PyTorch geometric\n",
    "        representation of a molecule or a batch of molecules\n",
    "        and generates the node embeddings for each atom.\n",
    "        Args:\n",
    "            x: node features\n",
    "            edge_index: adjacency list\n",
    "            edge_attr: edge features\n",
    "        Returns: tensor of num_nodes x embedding_dim embeddings\n",
    "        \"\"\"\n",
    "\n",
    "        # x[:, 0] corresponds to 'possible_atomic_num_list',\n",
    "        # x[:, 1] corresponds to 'possible_chirality_list'\n",
    "        x = self.x_embedding1(x[:, 0]) + self.x_embedding2(x[:, 1])\n",
    "\n",
    "        for layer in range(self.num_layers):\n",
    "            # x are atom features of the molecule and edge_attr the atomic features of the molecule\n",
    "            x = self.gnns[layer](x, edge_index, edge_attr)\n",
    "            x = self.batch_norms[layer](x)\n",
    "            if layer != self.num_layers - 1:\n",
    "                x = F.relu(x)\n",
    "\n",
    "        return x"
   ]
  },
  {
   "cell_type": "markdown",
   "metadata": {
    "id": "CkCaMWGxnoI1"
   },
   "source": [
    "## Construct the Bayesian GNN module and define the training and evaluation protocol\n",
    "\n",
    "Finally, we will define the Bayesian GNN module that takes the node-wise representations from the GNN, combines them into a graph-level representation and applies the `LinearReparameterization` layer from `bayesian_torch` to define the final Bayesian linear layer. We will also define the training and evaluation protocol for the Bayesian GNNs: These are similar to the ones you might use for deterministic GNNs, with the difference that we can draw multiple sample from the distribution over network weights to obtain predictions and uncertainty estimates."
   ]
  },
  {
   "cell_type": "code",
   "execution_count": 6,
   "metadata": {
    "id": "ToyP9_q9noI2"
   },
   "outputs": [],
   "source": [
    "class BayesianGNN(nn.Module):\n",
    "    def __init__(self, embed_dim=300, num_layers=5, gnn_type='gin', output_dim=1):\n",
    "        super().__init__()\n",
    "        self.gnn = GNN(num_layers=num_layers, embed_dim=embed_dim, gnn_type=gnn_type)\n",
    "        self.pooling = global_mean_pool\n",
    "        self.bayes_layer = LinearReparameterization(embed_dim, output_dim)\n",
    "\n",
    "    def forward(self, data):\n",
    "        x, edge_index, edge_attr, batch = data.x, data.edge_index, data.edge_attr, data.batch\n",
    "        res = self.gnn(x, edge_index, edge_attr)\n",
    "        res = self.pooling(res, batch)\n",
    "\n",
    "        # bayesian layer\n",
    "        kl_sum = 0\n",
    "        res, kl = self.bayes_layer(res)\n",
    "        kl_sum += kl\n",
    "        return res, kl_sum"
   ]
  },
  {
   "cell_type": "code",
   "execution_count": 7,
   "metadata": {
    "id": "9q1mAy4UnoI6"
   },
   "outputs": [],
   "source": [
    "def nlpd(y, y_pred, y_std):\n",
    "    nld = 0\n",
    "    for y_true, mu, std in zip(y.ravel(), y_pred.ravel(), y_std.ravel()):\n",
    "        nld  += -norm(mu, std).logpdf(y_true)\n",
    "    return nld / len(y)\n",
    "\n",
    "def predict(regressor, X, samples = 100):\n",
    "    preds = [regressor(X)[0] for i in range(samples)]\n",
    "    preds = torch.stack(preds)\n",
    "    means = preds.mean(axis=0)\n",
    "    var = preds.var(axis=0)\n",
    "    return means, var\n",
    "\n",
    "def graph_append_label(X, y, device):\n",
    "    G = []\n",
    "    for g, label in zip(X, y):\n",
    "        g.y = label\n",
    "        g = g.to(device)\n",
    "        G.append(g)\n",
    "    return G"
   ]
  },
  {
   "cell_type": "code",
   "execution_count": 8,
   "metadata": {
    "id": "89L0hBjmnoI7"
   },
   "outputs": [],
   "source": [
    "def evaluate_model(X, y, n_epochs=100, n_trials=20, kld_beta = 1., verbose=True):\n",
    "    test_set_size = 0.2\n",
    "    batch_size = 32\n",
    "\n",
    "    r2_list = []\n",
    "    rmse_list = []\n",
    "    mae_list = []\n",
    "    nlpd_list = []\n",
    "\n",
    "    # We pre-allocate array for plotting confidence-error curves\n",
    "\n",
    "    _, y_test = train_test_split(y, test_size=test_set_size)  # To get test set size\n",
    "    n_test = len(y_test)\n",
    "\n",
    "    mae_confidence_list = np.zeros((n_trials, n_test))\n",
    "\n",
    "    device = torch.device('cuda') if torch.cuda.is_available() else torch.device('cpu')\n",
    "    print(f'Device being used: {device}')\n",
    "\n",
    "    print('\\nBeginning training loop...')\n",
    "\n",
    "    for i in range(0, n_trials):\n",
    "\n",
    "        print(f'Starting trial {i}')\n",
    "\n",
    "        # split data and perform standardization\n",
    "        X_train, X_test, y_train, y_test = train_test_split(X, y, test_size=test_set_size, random_state=i)\n",
    "        _, y_train, _, y_test, y_scaler = transform_data(y_train, y_train, y_test, y_test)\n",
    "\n",
    "        # include y in the pyg graph structure\n",
    "        G_train = graph_append_label(X_train, y_train, device)\n",
    "        G_test = graph_append_label(X_test, y_test, device)\n",
    "\n",
    "        dataloader_train = DataLoader(G_train, batch_size=batch_size, shuffle=True, drop_last=True)\n",
    "        dataloader_test = DataLoader(G_test, batch_size=len(G_test))\n",
    "\n",
    "        # initialize model and optimizer\n",
    "        model = BayesianGNN(gnn_type='gin').to(device)\n",
    "        optimizer = torch.optim.Adam(model.parameters(), lr=0.01)\n",
    "        criterion = torch.nn.MSELoss()\n",
    "\n",
    "        training_loss = []\n",
    "\n",
    "        status = {}\n",
    "        best_loss = np.inf\n",
    "        patience = 50\n",
    "        count = 0\n",
    "        pbar = tqdm(range(n_epochs))\n",
    "        for epoch in pbar:\n",
    "            running_kld_loss = 0\n",
    "            running_mse_loss = 0\n",
    "            running_loss = 0\n",
    "            for data in dataloader_train:\n",
    "                optimizer.zero_grad()\n",
    "\n",
    "                output, kl = model(data)\n",
    "\n",
    "                # calculate loss with kl term for Bayesian layers\n",
    "                target = torch.tensor(np.array(data.y), dtype=torch.float, device=device)\n",
    "                mse_loss = criterion(output, target)\n",
    "                loss = mse_loss + kl * kld_beta / batch_size\n",
    "\n",
    "                loss.backward()\n",
    "                optimizer.step()\n",
    "\n",
    "                running_mse_loss += mse_loss.detach().cpu().numpy()\n",
    "                running_kld_loss += kl.detach().cpu().numpy()\n",
    "                running_loss += loss.detach().cpu().numpy()\n",
    "\n",
    "            status.update({\n",
    "                'Epoch': epoch,\n",
    "                'loss': running_loss/len(dataloader_train),\n",
    "                'kl': running_kld_loss/len(dataloader_train),\n",
    "                'mse': running_mse_loss/len(dataloader_train)\n",
    "            })\n",
    "            training_loss.append(status)\n",
    "            pbar.set_postfix(status)\n",
    "\n",
    "            with torch.no_grad():\n",
    "                for data in dataloader_test:\n",
    "                    y_pred, y_var = predict(model, data)\n",
    "                    target = torch.tensor(np.array(data.y), dtype=torch.float, device=device)\n",
    "                    val_loss = criterion(y_pred, target)\n",
    "                    val_loss = val_loss.detach().cpu().numpy()\n",
    "                    status.update({'val_loss': val_loss})\n",
    "\n",
    "                if best_loss > val_loss:\n",
    "                    best_loss = val_loss\n",
    "                    best_model = copy.deepcopy(model)\n",
    "                    count = 0\n",
    "                else:\n",
    "                    count += 1\n",
    "\n",
    "                if count >= patience:\n",
    "                    if verbose: print(f'Early stopping reached! Best validation loss {best_loss}')\n",
    "                    break\n",
    "\n",
    "            pbar.set_postfix(status)\n",
    "\n",
    "        # Get into evaluation (predictive posterior) mode\n",
    "        model = best_model\n",
    "        model.eval()\n",
    "\n",
    "        with torch.no_grad():\n",
    "            # mean and variance by sampling\n",
    "            for data in dataloader_test:\n",
    "                y_pred, y_var = predict(model, data, samples=100)\n",
    "                y_pred = y_pred.detach().cpu().numpy()\n",
    "                y_var = y_var.detach().cpu().numpy()\n",
    "\n",
    "        uq_nlpd = nlpd(y_test, y_pred, np.sqrt(y_var))\n",
    "        if verbose: print(f'NLPD: {uq_nlpd}')\n",
    "\n",
    "        # Transform back to real data space to compute metrics and detach gradients.\n",
    "        y_pred = y_scaler.inverse_transform(y_pred)\n",
    "        y_test = y_scaler.inverse_transform(y_test)\n",
    "\n",
    "        # Compute scores for confidence curve plotting.\n",
    "        ranked_confidence_list = np.argsort(y_var, axis=0).flatten()\n",
    "\n",
    "        for k in range(len(y_test)):\n",
    "\n",
    "            # Construct the MAE error for each level of confidence\n",
    "            conf = ranked_confidence_list[0:k+1]\n",
    "            mae = mean_absolute_error(y_test[conf], y_pred[conf])\n",
    "            mae_confidence_list[i, k] = mae\n",
    "\n",
    "        # Compute R^2, RMSE and MAE on Test set\n",
    "        score = r2_score(y_test, y_pred)\n",
    "        rmse = np.sqrt(mean_squared_error(y_test, y_pred))\n",
    "        mae = mean_absolute_error(y_test, y_pred)\n",
    "\n",
    "        r2_list.append(score)\n",
    "        rmse_list.append(rmse)\n",
    "        mae_list.append(mae)\n",
    "        nlpd_list.append(uq_nlpd)\n",
    "\n",
    "    r2_list = np.array(r2_list)\n",
    "    rmse_list = np.array(rmse_list)\n",
    "    mae_list = np.array(mae_list)\n",
    "    nlpd_list = np.array(nlpd_list)\n",
    "\n",
    "    print(\"\\nmean R^2: {:.4f} +- {:.4f}\".format(np.mean(r2_list), np.std(r2_list)/np.sqrt(len(r2_list))))\n",
    "    print(\"mean RMSE: {:.4f} +- {:.4f}\".format(np.mean(rmse_list), np.std(rmse_list)/np.sqrt(len(rmse_list))))\n",
    "    print(\"mean MAE: {:.4f} +- {:.4f}\\n\".format(np.mean(mae_list), np.std(mae_list)/np.sqrt(len(mae_list))))\n",
    "    print(\"mean NLPD: {:.4f} +- {:.4f}\\n\".format(np.mean(nlpd_list), np.std(nlpd_list)/np.sqrt(len(nlpd_list))))\n",
    "    print()\n",
    "\n",
    "    # Plot confidence-error curves\n",
    "\n",
    "    # 1e-14 instead of 0 to for numerical reasons!\n",
    "    confidence_percentiles = np.arange(1e-14, 100, 100/len(y_test))\n",
    "\n",
    "    # We plot the Mean-absolute error confidence-error curves\n",
    "\n",
    "    mae_mean = np.mean(mae_confidence_list, axis=0)\n",
    "    mae_std = np.std(mae_confidence_list, axis=0)\n",
    "\n",
    "    mae_mean = np.flip(mae_mean)\n",
    "    mae_std = np.flip(mae_std)\n",
    "\n",
    "    # 1 sigma errorbars\n",
    "\n",
    "    lower = mae_mean - mae_std\n",
    "    upper = mae_mean + mae_std\n",
    "\n",
    "    fig = plt.figure()\n",
    "    plt.plot(confidence_percentiles, mae_mean, label='mean')\n",
    "    plt.fill_between(confidence_percentiles, lower, upper, alpha=0.2)\n",
    "    plt.xlabel('Confidence Percentile')\n",
    "    plt.ylabel('MAE')\n",
    "    plt.ylim([0, np.max(upper) + 1])\n",
    "    plt.xlim([0, 100 * ((len(y_test) - 1) / len(y_test))])\n",
    "\n",
    "    results = {\n",
    "        'confidence_percentiles': confidence_percentiles,\n",
    "        'mae_mean': mae_mean,\n",
    "        'mae_std': mae_std,\n",
    "        'mae': mae_list,\n",
    "        'rmse': rmse_list,\n",
    "        'r2': r2_list,\n",
    "        'nlpd': nlpd_list,\n",
    "    }\n",
    "\n",
    "    return results, fig\n"
   ]
  },
  {
   "cell_type": "markdown",
   "metadata": {
    "id": "evXBGqvFnoI9"
   },
   "source": [
    "## Run the training and evaluation loop"
   ]
  },
  {
   "cell_type": "code",
   "execution_count": 9,
   "metadata": {
    "colab": {
     "base_uri": "https://localhost:8080/",
     "height": 1000
    },
    "id": "we-Ud4xanoJA",
    "outputId": "e2801c85-ab82-4a8b-ac2e-8c7d1734d645"
   },
   "outputs": [
    {
     "name": "stdout",
     "output_type": "stream",
     "text": [
      "Device being used: cuda\n",
      "\n",
      "Beginning training loop...\n",
      "Starting trial 0\n"
     ]
    },
    {
     "name": "stderr",
     "output_type": "stream",
     "text": [
      " 47%|████▋     | 142/300 [02:00<02:14,  1.18it/s, Epoch=142, loss=3.74, kl=1.33, mse=1.66, val_loss=0.30306697]"
     ]
    },
    {
     "name": "stdout",
     "output_type": "stream",
     "text": [
      "Early stopping reached! Best validation loss 0.11581621319055557\n"
     ]
    },
    {
     "name": "stderr",
     "output_type": "stream",
     "text": [
      "\n"
     ]
    },
    {
     "name": "stdout",
     "output_type": "stream",
     "text": [
      "NLPD: 0.7891262299567953\n",
      "Starting trial 1\n"
     ]
    },
    {
     "name": "stderr",
     "output_type": "stream",
     "text": [
      " 69%|██████▊   | 206/300 [02:35<01:11,  1.32it/s, Epoch=206, loss=3.04, kl=1.03, mse=1.43, val_loss=0.19800645]"
     ]
    },
    {
     "name": "stdout",
     "output_type": "stream",
     "text": [
      "Early stopping reached! Best validation loss 0.1911984235048294\n"
     ]
    },
    {
     "name": "stderr",
     "output_type": "stream",
     "text": [
      "\n"
     ]
    },
    {
     "name": "stdout",
     "output_type": "stream",
     "text": [
      "NLPD: 0.9329165919360254\n",
      "Starting trial 2\n"
     ]
    },
    {
     "name": "stderr",
     "output_type": "stream",
     "text": [
      " 35%|███▍      | 104/300 [01:19<02:29,  1.31it/s, Epoch=104, loss=3.31, kl=1.7, mse=0.646, val_loss=0.29850987]"
     ]
    },
    {
     "name": "stdout",
     "output_type": "stream",
     "text": [
      "Early stopping reached! Best validation loss 0.22155441343784332\n"
     ]
    },
    {
     "name": "stderr",
     "output_type": "stream",
     "text": [
      "\n"
     ]
    },
    {
     "name": "stdout",
     "output_type": "stream",
     "text": [
      "NLPD: 0.9101015414270804\n",
      "Starting trial 3\n"
     ]
    },
    {
     "name": "stderr",
     "output_type": "stream",
     "text": [
      " 24%|██▍       | 72/300 [00:55<02:54,  1.30it/s, Epoch=72, loss=4.45, kl=1.89, mse=1.49, val_loss=0.1720525]"
     ]
    },
    {
     "name": "stdout",
     "output_type": "stream",
     "text": [
      "Early stopping reached! Best validation loss 0.15270735323429108\n"
     ]
    },
    {
     "name": "stderr",
     "output_type": "stream",
     "text": [
      "\n"
     ]
    },
    {
     "name": "stdout",
     "output_type": "stream",
     "text": [
      "NLPD: 0.513528300588651\n",
      "Starting trial 4\n"
     ]
    },
    {
     "name": "stderr",
     "output_type": "stream",
     "text": [
      " 22%|██▏       | 66/300 [00:50<03:00,  1.30it/s, Epoch=66, loss=3.92, kl=1.73, mse=1.22, val_loss=0.5326283]"
     ]
    },
    {
     "name": "stdout",
     "output_type": "stream",
     "text": [
      "Early stopping reached! Best validation loss 0.3228945732116699\n"
     ]
    },
    {
     "name": "stderr",
     "output_type": "stream",
     "text": [
      "\n"
     ]
    },
    {
     "name": "stdout",
     "output_type": "stream",
     "text": [
      "NLPD: 1.683367726229072\n",
      "Starting trial 5\n"
     ]
    },
    {
     "name": "stderr",
     "output_type": "stream",
     "text": [
      " 53%|█████▎    | 158/300 [02:02<01:50,  1.29it/s, Epoch=158, loss=3.21, kl=1.09, mse=1.5, val_loss=0.3413453]"
     ]
    },
    {
     "name": "stdout",
     "output_type": "stream",
     "text": [
      "Early stopping reached! Best validation loss 0.2585623860359192\n"
     ]
    },
    {
     "name": "stderr",
     "output_type": "stream",
     "text": [
      "\n"
     ]
    },
    {
     "name": "stdout",
     "output_type": "stream",
     "text": [
      "NLPD: 0.9266979137971999\n",
      "Starting trial 6\n"
     ]
    },
    {
     "name": "stderr",
     "output_type": "stream",
     "text": [
      " 30%|███       | 91/300 [01:08<02:38,  1.32it/s, Epoch=91, loss=3.96, kl=1.75, mse=1.21, val_loss=0.38592163]"
     ]
    },
    {
     "name": "stdout",
     "output_type": "stream",
     "text": [
      "Early stopping reached! Best validation loss 0.2153647243976593\n"
     ]
    },
    {
     "name": "stderr",
     "output_type": "stream",
     "text": [
      "\n"
     ]
    },
    {
     "name": "stdout",
     "output_type": "stream",
     "text": [
      "NLPD: 0.6858583467681377\n",
      "Starting trial 7\n"
     ]
    },
    {
     "name": "stderr",
     "output_type": "stream",
     "text": [
      " 53%|█████▎    | 158/300 [01:59<01:47,  1.32it/s, Epoch=158, loss=2.86, kl=1.22, mse=0.95, val_loss=0.32246053]"
     ]
    },
    {
     "name": "stdout",
     "output_type": "stream",
     "text": [
      "Early stopping reached! Best validation loss 0.1867567002773285\n"
     ]
    },
    {
     "name": "stderr",
     "output_type": "stream",
     "text": [
      "\n"
     ]
    },
    {
     "name": "stdout",
     "output_type": "stream",
     "text": [
      "NLPD: 0.996825519470283\n",
      "Starting trial 8\n"
     ]
    },
    {
     "name": "stderr",
     "output_type": "stream",
     "text": [
      "100%|██████████| 300/300 [03:47<00:00,  1.32it/s, Epoch=299, loss=2.2, kl=0.876, mse=0.828, val_loss=0.25577274]\n"
     ]
    },
    {
     "name": "stdout",
     "output_type": "stream",
     "text": [
      "NLPD: 1.02045369536678\n",
      "Starting trial 9\n"
     ]
    },
    {
     "name": "stderr",
     "output_type": "stream",
     "text": [
      " 25%|██▌       | 75/300 [00:56<02:50,  1.32it/s, Epoch=75, loss=3.63, kl=1.99, mse=0.516, val_loss=0.24762282]"
     ]
    },
    {
     "name": "stdout",
     "output_type": "stream",
     "text": [
      "Early stopping reached! Best validation loss 0.16555529832839966\n"
     ]
    },
    {
     "name": "stderr",
     "output_type": "stream",
     "text": [
      "\n"
     ]
    },
    {
     "name": "stdout",
     "output_type": "stream",
     "text": [
      "NLPD: 0.5259638768835783\n",
      "\n",
      "mean R^2: 0.7894 +- 0.0227\n",
      "mean RMSE: 29.7135 +- 1.3321\n",
      "mean MAE: 21.4297 +- 0.9820\n",
      "\n",
      "mean NLPD: 0.8985 +- 0.0993\n",
      "\n",
      "\n"
     ]
    },
    {
     "data": {
      "image/png": "[encoded data removed]",
      "text/plain": [
       "<Figure size 640x480 with 1 Axes>"
      ]
     },
     "metadata": {},
     "output_type": "display_data"
    }
   ],
   "source": [
    "results, fig = evaluate_model(loader.features, loader.labels, n_epochs=300, n_trials=10, kld_beta=50.0)\n",
    "fig.show()"
   ]
  },
  {
   "cell_type": "markdown",
   "metadata": {
    "id": "0lsx9gJQnoJC"
   },
   "source": [
    "For graph features input, the results for the Bayesian GNN are below for the various datasets:\n",
    "\n",
    "| |Photoswitch | Freesolv | ESOL | Lipophilicity |\n",
    "|---|---|---|---|---|\n",
    "| R2 | 0.8048 +- 0.0155 | 0.7884 +- 0.0056 | 0.8224 +- 0.0044 | 0.6208 +- 0.0199 |\n",
    "| RMSE | 28.5302 +- 1.2050 | 0.9610 +- 0.0148  | 0.8800 +- 0.0098 |  0.7317 +- 0.0175 |\n",
    "| MAE | 20.7182 +- 0.9928 | 0.7264 +- 0.0161 | 0.6622 +- 0.0079 | 0.5328 +- 0.0111 |\n",
    "| NLPD | 0.9960 +- 0.1286 | 1.0060 +- 0.0153 | 1.6990 +- 0.1085 | 1.1406 +- 0.0120 |\n"
   ]
  }
 ],
 "metadata": {
  "accelerator": "GPU",
  "colab": {
   "gpuType": "T4",
   "provenance": []
  },
  "kernelspec": {
   "display_name": "gauche",
   "language": "python",
   "name": "gauche"
  },
  "language_info": {
   "codemirror_mode": {
    "name": "ipython",
    "version": 3
   },
   "file_extension": ".py",
   "mimetype": "text/x-python",
   "name": "python",
   "nbconvert_exporter": "python",
   "pygments_lexer": "ipython3",
   "version": "3.7.12"
  }
 },
 "nbformat": 4,
 "nbformat_minor": 0
}
