{
 "cells": [
  {
   "cell_type": "markdown",
   "metadata": {},
   "source": [
    "### Imports and Utils"
   ]
  },
  {
   "cell_type": "code",
   "execution_count": 1,
   "metadata": {},
   "outputs": [],
   "source": [
    "%load_ext autoreload\n",
    "%autoreload 2"
   ]
  },
  {
   "cell_type": "code",
   "execution_count": 2,
   "metadata": {},
   "outputs": [],
   "source": [
    "import torch\n",
    "import numpy as np\n",
    "import matplotlib.pyplot as plt\n",
    "from sklearn.model_selection import train_test_split\n",
    "from sklearn.metrics import r2_score, mean_absolute_error\n",
    "from tueplots import bundles\n",
    "plt.rcParams.update(bundles.iclr2023())"
   ]
  },
  {
   "cell_type": "code",
   "execution_count": 3,
   "metadata": {},
   "outputs": [],
   "source": [
    "from botorch import fit_gpytorch_model\n",
    "from botorch.models import SingleTaskGP\n",
    "from botorch.models.fully_bayesian import MIN_INFERRED_NOISE_LEVEL\n",
    "from botorch.models.transforms import Normalize, Standardize\n",
    "from gpytorch.constraints import GreaterThan\n",
    "from gpytorch.kernels import ScaleKernel\n",
    "from gpytorch.likelihoods import GaussianLikelihood\n",
    "from gpytorch.mlls import ExactMarginalLogLikelihood\n",
    "from gpytorch.priors import GammaPrior"
   ]
  },
  {
   "cell_type": "code",
   "execution_count": 4,
   "metadata": {
    "scrolled": true
   },
   "outputs": [
    {
     "data": {
      "text/html": [
       "<pre style=\"white-space:pre;overflow-x:auto;line-height:normal;font-family:Menlo,'DejaVu Sans Mono',consolas,'Courier New',monospace\"><span style=\"color: #7fbfbf; text-decoration-color: #7fbfbf\">[03/22/23 01:03:49] </span><span style=\"color: #800000; text-decoration-color: #800000\">WARNING </span> To use the Graphein submodule                                         <a href=\"file:///dfs/user/sttruong/env/geometric_ampere/lib/python3.8/site-packages/graphein/protein/features/sequence/embeddings.py\" target=\"_blank\"><span style=\"color: #7f7f7f; text-decoration-color: #7f7f7f\">embeddings.py</span></a><span style=\"color: #7f7f7f; text-decoration-color: #7f7f7f\">:</span><a href=\"file:///dfs/user/sttruong/env/geometric_ampere/lib/python3.8/site-packages/graphein/protein/features/sequence/embeddings.py#43\" target=\"_blank\"><span style=\"color: #7f7f7f; text-decoration-color: #7f7f7f\">43</span></a>\n",
       "<span style=\"color: #7fbfbf; text-decoration-color: #7fbfbf\">                    </span>         graphein.protein.features.sequence.embeddings, you need to install:   <span style=\"color: #7f7f7f; text-decoration-color: #7f7f7f\">                </span>\n",
       "<span style=\"color: #7fbfbf; text-decoration-color: #7fbfbf\">                    </span>         biovec                                                                <span style=\"color: #7f7f7f; text-decoration-color: #7f7f7f\">                </span>\n",
       "<span style=\"color: #7fbfbf; text-decoration-color: #7fbfbf\">                    </span>         To do so, use the following command: pip install biovec               <span style=\"color: #7f7f7f; text-decoration-color: #7f7f7f\">                </span>\n",
       "</pre>\n"
      ],
      "text/plain": [
       "\u001b[2;36m[03/22/23 01:03:49]\u001b[0m\u001b[2;36m \u001b[0m\u001b[31mWARNING \u001b[0m To use the Graphein submodule                                         \u001b]8;id=755687;file:///dfs/user/sttruong/env/geometric_ampere/lib/python3.8/site-packages/graphein/protein/features/sequence/embeddings.py\u001b\\\u001b[2membeddings.py\u001b[0m\u001b]8;;\u001b\\\u001b[2m:\u001b[0m\u001b]8;id=393577;file:///dfs/user/sttruong/env/geometric_ampere/lib/python3.8/site-packages/graphein/protein/features/sequence/embeddings.py#43\u001b\\\u001b[2m43\u001b[0m\u001b]8;;\u001b\\\n",
       "\u001b[2;36m                    \u001b[0m         graphein.protein.features.sequence.embeddings, you need to install:   \u001b[2m                \u001b[0m\n",
       "\u001b[2;36m                    \u001b[0m         biovec                                                                \u001b[2m                \u001b[0m\n",
       "\u001b[2;36m                    \u001b[0m         To do so, use the following command: pip install biovec               \u001b[2m                \u001b[0m\n"
      ]
     },
     "metadata": {},
     "output_type": "display_data"
    },
    {
     "data": {
      "text/html": [
       "<pre style=\"white-space:pre;overflow-x:auto;line-height:normal;font-family:Menlo,'DejaVu Sans Mono',consolas,'Courier New',monospace\"><span style=\"color: #7fbfbf; text-decoration-color: #7fbfbf\">                    </span><span style=\"color: #800000; text-decoration-color: #800000\">WARNING </span> To use the Graphein submodule graphein.protein.visualisation, you  <a href=\"file:///dfs/user/sttruong/env/geometric_ampere/lib/python3.8/site-packages/graphein/protein/visualisation.py\" target=\"_blank\"><span style=\"color: #7f7f7f; text-decoration-color: #7f7f7f\">visualisation.py</span></a><span style=\"color: #7f7f7f; text-decoration-color: #7f7f7f\">:</span><a href=\"file:///dfs/user/sttruong/env/geometric_ampere/lib/python3.8/site-packages/graphein/protein/visualisation.py#35\" target=\"_blank\"><span style=\"color: #7f7f7f; text-decoration-color: #7f7f7f\">35</span></a>\n",
       "<span style=\"color: #7fbfbf; text-decoration-color: #7fbfbf\">                    </span>         need to install: pytorch3d                                         <span style=\"color: #7f7f7f; text-decoration-color: #7f7f7f\">                   </span>\n",
       "<span style=\"color: #7fbfbf; text-decoration-color: #7fbfbf\">                    </span>         pytorch3d cannot be installed via pip                              <span style=\"color: #7f7f7f; text-decoration-color: #7f7f7f\">                   </span>\n",
       "</pre>\n"
      ],
      "text/plain": [
       "\u001b[2;36m                   \u001b[0m\u001b[2;36m \u001b[0m\u001b[31mWARNING \u001b[0m To use the Graphein submodule graphein.protein.visualisation, you  \u001b]8;id=454498;file:///dfs/user/sttruong/env/geometric_ampere/lib/python3.8/site-packages/graphein/protein/visualisation.py\u001b\\\u001b[2mvisualisation.py\u001b[0m\u001b]8;;\u001b\\\u001b[2m:\u001b[0m\u001b]8;id=804425;file:///dfs/user/sttruong/env/geometric_ampere/lib/python3.8/site-packages/graphein/protein/visualisation.py#35\u001b\\\u001b[2m35\u001b[0m\u001b]8;;\u001b\\\n",
       "\u001b[2;36m                    \u001b[0m         need to install: pytorch3d                                         \u001b[2m                   \u001b[0m\n",
       "\u001b[2;36m                    \u001b[0m         pytorch3d cannot be installed via pip                              \u001b[2m                   \u001b[0m\n"
      ]
     },
     "metadata": {},
     "output_type": "display_data"
    },
    {
     "data": {
      "text/html": [
       "<pre style=\"white-space:pre;overflow-x:auto;line-height:normal;font-family:Menlo,'DejaVu Sans Mono',consolas,'Courier New',monospace\"><span style=\"color: #7fbfbf; text-decoration-color: #7fbfbf\">                    </span><span style=\"color: #800000; text-decoration-color: #800000\">WARNING </span> To use the Graphein submodule graphein.protein.meshes, you need to        <a href=\"file:///dfs/user/sttruong/env/geometric_ampere/lib/python3.8/site-packages/graphein/protein/meshes.py\" target=\"_blank\"><span style=\"color: #7f7f7f; text-decoration-color: #7f7f7f\">meshes.py</span></a><span style=\"color: #7f7f7f; text-decoration-color: #7f7f7f\">:</span><a href=\"file:///dfs/user/sttruong/env/geometric_ampere/lib/python3.8/site-packages/graphein/protein/meshes.py#29\" target=\"_blank\"><span style=\"color: #7f7f7f; text-decoration-color: #7f7f7f\">29</span></a>\n",
       "<span style=\"color: #7fbfbf; text-decoration-color: #7fbfbf\">                    </span>         install: pytorch3d                                                        <span style=\"color: #7f7f7f; text-decoration-color: #7f7f7f\">            </span>\n",
       "<span style=\"color: #7fbfbf; text-decoration-color: #7fbfbf\">                    </span>         To do so, use the following command: pip install pytorch3d                <span style=\"color: #7f7f7f; text-decoration-color: #7f7f7f\">            </span>\n",
       "</pre>\n"
      ],
      "text/plain": [
       "\u001b[2;36m                   \u001b[0m\u001b[2;36m \u001b[0m\u001b[31mWARNING \u001b[0m To use the Graphein submodule graphein.protein.meshes, you need to        \u001b]8;id=144833;file:///dfs/user/sttruong/env/geometric_ampere/lib/python3.8/site-packages/graphein/protein/meshes.py\u001b\\\u001b[2mmeshes.py\u001b[0m\u001b]8;;\u001b\\\u001b[2m:\u001b[0m\u001b]8;id=594646;file:///dfs/user/sttruong/env/geometric_ampere/lib/python3.8/site-packages/graphein/protein/meshes.py#29\u001b\\\u001b[2m29\u001b[0m\u001b]8;;\u001b\\\n",
       "\u001b[2;36m                    \u001b[0m         install: pytorch3d                                                        \u001b[2m            \u001b[0m\n",
       "\u001b[2;36m                    \u001b[0m         To do so, use the following command: pip install pytorch3d                \u001b[2m            \u001b[0m\n"
      ]
     },
     "metadata": {},
     "output_type": "display_data"
    }
   ],
   "source": [
    "# To import from the gauche package\n",
    "import sys\n",
    "sys.path.append('..')\n",
    "\n",
    "from gauche.dataloader.data_utils import transform_data\n",
    "from gauche.kernels.string_kernels.sskkernel import pad, encode_string, build_one_hot, SubsequenceStringKernel"
   ]
  },
  {
   "cell_type": "code",
   "execution_count": 5,
   "metadata": {},
   "outputs": [],
   "source": [
    "# plotting util\n",
    "def cv_plot(median, q1, q2, y_test):\n",
    "    fig, ax = plt.subplots(1, 1, figsize=(8, 6))\n",
    "    ax.plot(\n",
    "        [torch.min(median), torch.max(median)], \n",
    "        [torch.min(median), torch.max(median)], \n",
    "        \"b--\", lw=2\n",
    "    )\n",
    "    yerr1, yerr2 = median - q1, q2 - median\n",
    "    yerr = torch.cat((yerr1.unsqueeze(0), yerr2.unsqueeze(0)), dim=0).squeeze(-1)\n",
    "    markers, caps, bars = ax.errorbar(\n",
    "        y_test.squeeze(-1).cpu(),\n",
    "        median.squeeze(-1).cpu(),\n",
    "        yerr=yerr.cpu(),\n",
    "        fmt=\".\",\n",
    "        capsize=4,\n",
    "        elinewidth=2.0,\n",
    "        ms=14,\n",
    "        c=\"k\",\n",
    "        ecolor=\"gray\",\n",
    "    )\n",
    "    [bar.set_alpha(0.8) for bar in bars]\n",
    "    [cap.set_alpha(0.8) for cap in caps]\n",
    "    ax.set_xlabel(\"True value\", fontsize=20)\n",
    "    ax.set_ylabel(\"Predicted value\", fontsize=20)\n",
    "    ax.set_aspect(\"equal\")\n",
    "    ax.grid(True)\n",
    "    plt.savefig(\"ssk.pdf\")\n"
   ]
  },
  {
   "cell_type": "code",
   "execution_count": 6,
   "metadata": {},
   "outputs": [
    {
     "name": "stdout",
     "output_type": "stream",
     "text": [
      "{'dtype': torch.float32, 'device': device(type='cuda')}\n"
     ]
    }
   ],
   "source": [
    "device = torch.device(\"cuda\" if torch.cuda.is_available() else \"cpu\")\n",
    "tkwargs = {\"dtype\": torch.float, \"device\": device}\n",
    "print(tkwargs)"
   ]
  },
  {
   "cell_type": "markdown",
   "metadata": {},
   "source": [
    "### Data setup"
   ]
  },
  {
   "cell_type": "code",
   "execution_count": 7,
   "metadata": {},
   "outputs": [],
   "source": [
    "# Regression experiments parameters, number of random splits and split size\n",
    "n_trials = 20\n",
    "test_set_size = 0.2"
   ]
  },
  {
   "cell_type": "code",
   "execution_count": 8,
   "metadata": {},
   "outputs": [
    {
     "name": "stdout",
     "output_type": "stream",
     "text": [
      "len(sequences) 151 | len(targets) 151\n"
     ]
    }
   ],
   "source": [
    "import pandas as pd\n",
    "\n",
    "df = pd.read_csv('petase_151_mutants.csv')\n",
    "sequences = df['sequence'].to_list()\n",
    "targets = df['fitness'].to_numpy().reshape(-1, 1)\n",
    "print(f'len(sequences) {len(sequences)} | len(targets) {len(targets)}')"
   ]
  },
  {
   "cell_type": "code",
   "execution_count": 9,
   "metadata": {},
   "outputs": [
    {
     "name": "stdout",
     "output_type": "stream",
     "text": [
      "alphabet \n",
      " ['K', 'D', 'M', 'P', 'Y', 'V', 'T', 'F', 'S', 'L', 'C', 'G', 'R', 'Q', 'W', 'A', 'I', 'H', 'E', 'N'] \n",
      " length of alphabet 20\n",
      "maxlen 290\n"
     ]
    }
   ],
   "source": [
    "maxlen = np.max([len(x) for x in sequences])\n",
    "# get alphabet of characters used in candidate set (to init SSK)\n",
    "alphabet = list({l for word in sequences for l in word})\n",
    "print(f'alphabet \\n {alphabet} \\n length of alphabet {len(alphabet)}')\n",
    "print(f'maxlen {maxlen}')"
   ]
  },
  {
   "cell_type": "markdown",
   "metadata": {},
   "source": [
    "### Model Fits and Prediction"
   ]
  },
  {
   "cell_type": "code",
   "execution_count": 10,
   "metadata": {},
   "outputs": [],
   "source": [
    "def get_gp_model(X, Y):\n",
    "    likelihood = GaussianLikelihood(\n",
    "        noise_prior=GammaPrior(torch.tensor(0.9, **tkwargs), torch.tensor(10.0, **tkwargs)),\n",
    "        noise_constraint=GreaterThan(MIN_INFERRED_NOISE_LEVEL),\n",
    "    )\n",
    "    covar_module = ScaleKernel(  # Use the same lengthscale prior as in the TuRBO paper\n",
    "        SubsequenceStringKernel(embds, index, alphabet, maxlen, **tkwargs),\n",
    "    )\n",
    "    gp_model = SingleTaskGP(\n",
    "        train_X=X,\n",
    "        train_Y=Y,\n",
    "        outcome_transform=Standardize(1),\n",
    "        likelihood=likelihood,\n",
    "        covar_module=covar_module,\n",
    "    )\n",
    "    mll = ExactMarginalLogLikelihood(model=gp_model, likelihood=gp_model.likelihood)\n",
    "    # ideally we can optimize over the kernel hyper-parameters of the string kernel\n",
    "    # however, the gpu memory usage in batch (GPU) version of the kernel is quite high\n",
    "    # while the standard non-batch version is relatively slow for kernel evaluation.\n",
    "    # Nevertheless, the kernel is very robust to choices of different these hyper-params.\n",
    "    mll.model.covar_module.base_kernel.raw_order_coefs.requires_grad = False\n",
    "    mll.model.covar_module.base_kernel.raw_match_decay.requires_grad = False\n",
    "    mll.model.covar_module.base_kernel.raw_gap_decay.requires_grad = False\n",
    "    return mll, gp_model"
   ]
  },
  {
   "cell_type": "code",
   "execution_count": 11,
   "metadata": {},
   "outputs": [],
   "source": [
    "embds, index = build_one_hot(alphabet)\n",
    "embds = embds.to(**tkwargs)\n",
    "all_encoded_sequences = torch.cat(\n",
    "    [pad(encode_string(x, index), maxlen).unsqueeze(0) for x in sequences],\n",
    "    dim=0\n",
    ")"
   ]
  },
  {
   "cell_type": "code",
   "execution_count": 12,
   "metadata": {},
   "outputs": [],
   "source": [
    "X_train, X_test, y_train, y_test = train_test_split(\n",
    "    all_encoded_sequences, \n",
    "    targets, \n",
    "    test_size=test_set_size, \n",
    "    random_state=0\n",
    ")\n",
    "X_train = X_train.to(**tkwargs)\n",
    "X_test = X_test.to(**tkwargs)\n",
    "y_train = torch.tensor(y_train, **tkwargs)\n",
    "y_test = torch.tensor(y_test, **tkwargs)"
   ]
  },
  {
   "cell_type": "code",
   "execution_count": 13,
   "metadata": {},
   "outputs": [
    {
     "name": "stderr",
     "output_type": "stream",
     "text": [
      "/dfs/user/sttruong/env/geometric_ampere/lib/python3.8/site-packages/botorch/models/gpytorch.py:113: UserWarning: The model inputs are of type torch.float32. It is strongly recommended to use double precision in BoTorch, as this improves both precision and stability and can help avoid numerical errors. See https://github.com/pytorch/botorch/discussions/1444\n",
      "  warnings.warn(\n"
     ]
    },
    {
     "data": {
      "text/plain": [
       "ExactMarginalLogLikelihood(\n",
       "  (likelihood): GaussianLikelihood(\n",
       "    (noise_covar): HomoskedasticNoise(\n",
       "      (noise_prior): GammaPrior()\n",
       "      (raw_noise_constraint): GreaterThan(1.000E-06)\n",
       "    )\n",
       "  )\n",
       "  (model): SingleTaskGP(\n",
       "    (likelihood): GaussianLikelihood(\n",
       "      (noise_covar): HomoskedasticNoise(\n",
       "        (noise_prior): GammaPrior()\n",
       "        (raw_noise_constraint): GreaterThan(1.000E-06)\n",
       "      )\n",
       "    )\n",
       "    (mean_module): ConstantMean()\n",
       "    (covar_module): ScaleKernel(\n",
       "      (base_kernel): SubsequenceStringKernel(\n",
       "        (raw_gap_decay_constraint): Interval(0.000E+00, 1.000E+00)\n",
       "        (raw_match_decay_constraint): Interval(0.000E+00, 1.000E+00)\n",
       "        (raw_order_coefs_constraint): Interval(0.000E+00, 1.000E+00)\n",
       "      )\n",
       "      (raw_outputscale_constraint): Positive()\n",
       "    )\n",
       "    (outcome_transform): Standardize()\n",
       "  )\n",
       ")"
      ]
     },
     "execution_count": 13,
     "metadata": {},
     "output_type": "execute_result"
    }
   ],
   "source": [
    "mll, gp_model = get_gp_model(X_train, y_train)\n",
    "fit_gpytorch_model(mll)"
   ]
  },
  {
   "cell_type": "code",
   "execution_count": 14,
   "metadata": {},
   "outputs": [
    {
     "data": {
      "image/png": "[encoded data removed]",
      "text/plain": [
       "<Figure size 800x600 with 1 Axes>"
      ]
     },
     "metadata": {},
     "output_type": "display_data"
    }
   ],
   "source": [
    "posterior = gp_model.posterior(X_test)\n",
    "median = posterior.mean.cpu().detach()\n",
    "std = posterior.variance.cpu().detach()**(1/2)\n",
    "q1 = median - std\n",
    "q2 = median + std\n",
    "cv_plot(median, q1, q2, y_test)"
   ]
  },
  {
   "cell_type": "code",
   "execution_count": 18,
   "metadata": {},
   "outputs": [
    {
     "name": "stdout",
     "output_type": "stream",
     "text": [
      "R2_score:  0.6735538594252475\n",
      "MAE:  2.8363397\n"
     ]
    }
   ],
   "source": [
    "print(\"R2_score: \", r2_score(median.squeeze(1), y_test.cpu().detach().squeeze(1)))\n",
    "print(\"MAE: \", mean_absolute_error(median.squeeze(1), y_test.cpu().detach().squeeze(1)))"
   ]
  },
  {
   "cell_type": "markdown",
   "metadata": {},
   "source": [
    "### Testing BoTorch compatibility"
   ]
  },
  {
   "cell_type": "code",
   "execution_count": 16,
   "metadata": {},
   "outputs": [],
   "source": [
    "from botorch.acquisition import qExpectedImprovement\n",
    "from botorch.sampling import SobolQMCNormalSampler"
   ]
  },
  {
   "cell_type": "code",
   "execution_count": 17,
   "metadata": {},
   "outputs": [
    {
     "name": "stdout",
     "output_type": "stream",
     "text": [
      "tensor([0.0000, 0.0000, 0.0000, 0.0000, 0.0000, 0.0000, 0.0000, 0.0000, 0.0000,\n",
      "        0.0000, 0.0000, 0.0000, 0.0000, 0.0000, 0.0000, 0.0000, 0.0000, 0.0000,\n",
      "        0.0000, 0.0000, 0.0000, 0.0000, 0.0000, 0.0000, 0.0000, 0.0000, 0.0000,\n",
      "        0.0000, 0.0000, 0.0000, 0.0023], device='cuda:0',\n",
      "       grad_fn=<MeanBackward1>)\n"
     ]
    }
   ],
   "source": [
    "qmc_sampler = SobolQMCNormalSampler(sample_shape=32)\n",
    "qEI = qExpectedImprovement(\n",
    "    model=gp_model, best_f=y_train.max(),\n",
    "    sampler=qmc_sampler)\n",
    "print(qEI(X_test.unsqueeze(1)))"
   ]
  },
  {
   "cell_type": "code",
   "execution_count": null,
   "metadata": {},
   "outputs": [],
   "source": []
  }
 ],
 "metadata": {
  "interpreter": {
   "hash": "4d0027c8e4af6ef19652b5e9178dbab0fb836d7604e2f6f0710420cbb45dd4f7"
  },
  "kernelspec": {
   "display_name": "geometric_ampere",
   "language": "python",
   "name": "geometric_ampere"
  },
  "language_info": {
   "codemirror_mode": {
    "name": "ipython",
    "version": 3
   },
   "file_extension": ".py",
   "mimetype": "text/x-python",
   "name": "python",
   "nbconvert_exporter": "python",
   "pygments_lexer": "ipython3",
   "version": "3.8.10"
  }
 },
 "nbformat": 4,
 "nbformat_minor": 2
}
