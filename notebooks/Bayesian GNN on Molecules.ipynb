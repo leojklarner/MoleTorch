{
 "cells": [
  {
   "cell_type": "markdown",
   "metadata": {},
   "source": [
    "# Bayesian GNN for regression on Molecules\n",
    "\n",
    "Here we will compare the perform regression of molecules using Bayesian GNNs, inspired by Hwang et al. 2020 (https://pubs.acs.org/doi/abs/10.1021/acs.jcim.0c00416). The feature extractor used here is the GIN architecture, with the same graph features used in the graph kernel experiments. Here we rely on a final Bayesian linear layers from Bayesian-Torch (https://github.com/IntelLabs/bayesian-torch).\n",
    "\n",
    "The densely connected final layer will have weight *distributions* rather than deterministic weights. The uncertainty of the model will be obtained by repeatedly sampling the network for predictions. We recommend using the CUDA to increase the speed of training the GNN."
   ]
  },
  {
   "cell_type": "markdown",
   "metadata": {},
   "source": [
    "## Set up datasets and import packages"
   ]
  },
  {
   "cell_type": "code",
   "execution_count": 1,
   "metadata": {
    "scrolled": true
   },
   "outputs": [
    {
     "name": "stderr",
     "output_type": "stream",
     "text": [
      "To use the Graphein submodule graphein.protein.features.sequence.embeddings, you need to install: biovec \n",
      "biovec cannot be installed via conda\n",
      "WARNING:graphein.protein.visualisation:To use the Graphein submodule graphein.protein.visualisation, you need to install: pytorch3d \n",
      "To do so, use the following command: conda install -c pytorch3d pytorch3d\n",
      "WARNING:graphein.protein.meshes:To use the Graphein submodule graphein.protein.meshes, you need to install: pytorch3d \n",
      "To do so, use the following command: conda install -c pytorch3d pytorch3d\n"
     ]
    }
   ],
   "source": [
    "import os, sys\n",
    "sys.path.append('..')\n",
    "from tqdm import tqdm\n",
    "import copy\n",
    "\n",
    "import warnings\n",
    "warnings.filterwarnings(\"ignore\")\n",
    "\n",
    "# import sklearn\n",
    "from gauche.dataloader import DataLoaderMP\n",
    "from gauche.dataloader.data_utils import transform_data\n",
    "from gauche.kernels.gnn_kernels.pretrained_kernel import GNN, mol_to_pyg\n",
    "\n",
    "import pandas as pd\n",
    "import numpy as np\n",
    "import rdkit.Chem.AllChem as Chem\n",
    "import matplotlib.pyplot as plt\n",
    "\n",
    "from scipy.stats import norm\n",
    "\n",
    "from sklearn.model_selection import train_test_split\n",
    "from sklearn.metrics import mean_absolute_error, mean_squared_error, r2_score\n",
    "\n",
    "import torch\n",
    "import torch.nn as nn\n",
    "import torch.nn.functional as F\n",
    "\n",
    "from torch_geometric.nn import global_mean_pool\n",
    "from torch_geometric.loader import DataLoader\n",
    "from bayesian_torch.layers import LinearFlipout, LinearReparameterization"
   ]
  },
  {
   "cell_type": "code",
   "execution_count": 2,
   "metadata": {},
   "outputs": [],
   "source": [
    "# set paths\n",
    "dataset_paths = {\n",
    "    \"Photoswitch\": \"../data/property_prediction/photoswitches.csv\",\n",
    "    \"ESOL\": \"../data/property_prediction/ESOL.csv\",\n",
    "    \"FreeSolv\": \"../data/property_prediction/FreeSolv.csv\",\n",
    "    \"Lipophilicity\": \"../data/property_prediction/Lipophilicity.csv\",\n",
    "}\n",
    "    "
   ]
  },
  {
   "cell_type": "markdown",
   "metadata": {},
   "source": [
    "## Create model\n"
   ]
  },
  {
   "cell_type": "code",
   "execution_count": 3,
   "metadata": {},
   "outputs": [],
   "source": [
    "class BayesianGNN(nn.Module):\n",
    "    def __init__(self, embed_dim=300, num_layers=5, gnn_type='gin', output_dim=1):\n",
    "        super().__init__()\n",
    "        self.gnn = GNN(num_layers=num_layers, embed_dim=embed_dim, gnn_type=gnn_type)\n",
    "        self.pooling = global_mean_pool\n",
    "        self.bayes_layer = LinearReparameterization(embed_dim, output_dim)\n",
    "        \n",
    "    def forward(self, data):\n",
    "        x, edge_index, edge_attr, batch = data.x, data.edge_index, data.edge_attr, data.batch\n",
    "        res = self.gnn(x, edge_index, edge_attr)\n",
    "        res = self.pooling(res, batch)\n",
    "\n",
    "        # bayesian layer\n",
    "        kl_sum = 0\n",
    "        res, kl = self.bayes_layer(res)\n",
    "        kl_sum += kl\n",
    "        return res, kl_sum"
   ]
  },
  {
   "cell_type": "code",
   "execution_count": 4,
   "metadata": {},
   "outputs": [],
   "source": [
    "def nlpd(y, y_pred, y_std):\n",
    "    nld = 0\n",
    "    for y_true, mu, std in zip(y.ravel(), y_pred.ravel(), y_std.ravel()):\n",
    "        nld  += -norm(mu, std).logpdf(y_true)\n",
    "    return nld / len(y)\n",
    "\n",
    "def predict(regressor, X, samples = 100):\n",
    "    preds = [regressor(X)[0] for i in range(samples)]\n",
    "    preds = torch.stack(preds)\n",
    "    means = preds.mean(axis=0)\n",
    "    var = preds.var(axis=0)\n",
    "    return means, var\n",
    "\n",
    "def graph_append_label(X, y, device):\n",
    "    G = []\n",
    "    for g, label in zip(X, y):\n",
    "        g.y = label\n",
    "        g = g.to(device)\n",
    "        G.append(g)\n",
    "    return G"
   ]
  },
  {
   "cell_type": "code",
   "execution_count": 5,
   "metadata": {},
   "outputs": [],
   "source": [
    "def evaluate_model(X, y, n_epochs=100, n_trials=20, kld_beta = 1., verbose=True):\n",
    "    test_set_size = 0.2\n",
    "    batch_size = 32\n",
    "    \n",
    "    r2_list = []\n",
    "    rmse_list = []\n",
    "    mae_list = []\n",
    "    nlpd_list = []\n",
    "    \n",
    "    # We pre-allocate array for plotting confidence-error curves\n",
    "\n",
    "    _, y_test = train_test_split(y, test_size=test_set_size)  # To get test set size\n",
    "    n_test = len(y_test)\n",
    "    \n",
    "    mae_confidence_list = np.zeros((n_trials, n_test))\n",
    "    \n",
    "    device = torch.device('cuda') if torch.cuda.is_available() else torch.device('cpu')\n",
    "    print(f'Device being used: {device}')\n",
    "    \n",
    "    print('\\nBeginning training loop...')\n",
    "\n",
    "    for i in range(0, n_trials):\n",
    "        \n",
    "        print(f'Starting trial {i}')\n",
    "        \n",
    "        # split data and perform standardization\n",
    "        X_train, X_test, y_train, y_test = train_test_split(X, y, test_size=test_set_size, random_state=i)\n",
    "        _, y_train, _, y_test, y_scaler = transform_data(y_train, y_train, y_test, y_test)\n",
    "        \n",
    "        # include y in the pyg graph structure\n",
    "        G_train = graph_append_label(X_train, y_train, device)\n",
    "        G_test = graph_append_label(X_test, y_test, device)\n",
    "        \n",
    "        dataloader_train = DataLoader(G_train, batch_size=batch_size, shuffle=True, drop_last=True)\n",
    "        dataloader_test = DataLoader(G_test, batch_size=len(G_test))\n",
    "        \n",
    "        # initialize model and optimizer\n",
    "        model = BayesianGNN(gnn_type='gin').to(device)\n",
    "        optimizer = torch.optim.Adam(model.parameters(), lr=0.01)\n",
    "        criterion = torch.nn.MSELoss()\n",
    "        \n",
    "        training_loss = []\n",
    "    \n",
    "        status = {}\n",
    "        best_loss = np.inf\n",
    "        patience = 50\n",
    "        count = 0\n",
    "        pbar = tqdm(range(n_epochs))\n",
    "        for epoch in pbar:\n",
    "            running_kld_loss = 0\n",
    "            running_mse_loss = 0\n",
    "            running_loss = 0\n",
    "            for data in dataloader_train:\n",
    "                optimizer.zero_grad()\n",
    "                \n",
    "                output, kl = model(data)\n",
    "                \n",
    "                # calculate loss with kl term for Bayesian layers\n",
    "                target = torch.tensor(np.array(data.y), dtype=torch.float, device=device)\n",
    "                mse_loss = criterion(output, target)\n",
    "                loss = mse_loss + kl * kld_beta / batch_size\n",
    "                \n",
    "                loss.backward()\n",
    "                optimizer.step()\n",
    "                \n",
    "                running_mse_loss += mse_loss.detach().cpu().numpy()\n",
    "                running_kld_loss += kl.detach().cpu().numpy()\n",
    "                running_loss += loss.detach().cpu().numpy()\n",
    "                \n",
    "            status.update({\n",
    "                'Epoch': epoch, \n",
    "                'loss': running_loss/len(dataloader_train),\n",
    "                'kl': running_kld_loss/len(dataloader_train),\n",
    "                'mse': running_mse_loss/len(dataloader_train)\n",
    "            })\n",
    "            training_loss.append(status)\n",
    "            pbar.set_postfix(status)\n",
    "            \n",
    "            with torch.no_grad():\n",
    "                for data in dataloader_test:\n",
    "                    y_pred, y_var = predict(model, data)\n",
    "                    target = torch.tensor(np.array(data.y), dtype=torch.float, device=device)\n",
    "                    val_loss = criterion(y_pred, target)\n",
    "                    val_loss = val_loss.detach().cpu().numpy()\n",
    "                    status.update({'val_loss': val_loss})\n",
    "\n",
    "                if best_loss > val_loss:\n",
    "                    best_loss = val_loss\n",
    "                    best_model = copy.deepcopy(model)\n",
    "                    count = 0\n",
    "                else:\n",
    "                    count += 1\n",
    "\n",
    "                if count >= patience:\n",
    "                    if verbose: print(f'Early stopping reached! Best validation loss {best_loss}')\n",
    "                    break \n",
    "            \n",
    "            pbar.set_postfix(status)\n",
    "\n",
    "        # Get into evaluation (predictive posterior) mode\n",
    "        model = best_model\n",
    "        model.eval()\n",
    "        \n",
    "        with torch.no_grad():\n",
    "            # mean and variance by sampling\n",
    "            for data in dataloader_test:\n",
    "                y_pred, y_var = predict(model, data, samples=100)\n",
    "                y_pred = y_pred.detach().cpu().numpy()\n",
    "                y_var = y_var.detach().cpu().numpy()\n",
    "                \n",
    "        uq_nlpd = nlpd(y_test, y_pred, np.sqrt(y_var))\n",
    "        if verbose: print(f'NLPD: {uq_nlpd}')\n",
    "\n",
    "        # Transform back to real data space to compute metrics and detach gradients.\n",
    "        y_pred = y_scaler.inverse_transform(y_pred)\n",
    "        y_test = y_scaler.inverse_transform(y_test)\n",
    "\n",
    "        # Compute scores for confidence curve plotting.\n",
    "        ranked_confidence_list = np.argsort(y_var, axis=0).flatten()\n",
    "\n",
    "        for k in range(len(y_test)):\n",
    "\n",
    "            # Construct the MAE error for each level of confidence\n",
    "            conf = ranked_confidence_list[0:k+1]\n",
    "            mae = mean_absolute_error(y_test[conf], y_pred[conf])\n",
    "            mae_confidence_list[i, k] = mae\n",
    "\n",
    "        # Compute R^2, RMSE and MAE on Test set\n",
    "        score = r2_score(y_test, y_pred)\n",
    "        rmse = np.sqrt(mean_squared_error(y_test, y_pred))\n",
    "        mae = mean_absolute_error(y_test, y_pred)\n",
    "\n",
    "        r2_list.append(score)\n",
    "        rmse_list.append(rmse)\n",
    "        mae_list.append(mae)\n",
    "        nlpd_list.append(uq_nlpd)\n",
    "        \n",
    "    r2_list = np.array(r2_list)\n",
    "    rmse_list = np.array(rmse_list)\n",
    "    mae_list = np.array(mae_list)\n",
    "    nlpd_list = np.array(nlpd_list)\n",
    "        \n",
    "    print(\"\\nmean R^2: {:.4f} +- {:.4f}\".format(np.mean(r2_list), np.std(r2_list)/np.sqrt(len(r2_list))))\n",
    "    print(\"mean RMSE: {:.4f} +- {:.4f}\".format(np.mean(rmse_list), np.std(rmse_list)/np.sqrt(len(rmse_list))))\n",
    "    print(\"mean MAE: {:.4f} +- {:.4f}\\n\".format(np.mean(mae_list), np.std(mae_list)/np.sqrt(len(mae_list)))) \n",
    "    print(\"mean NLPD: {:.4f} +- {:.4f}\\n\".format(np.mean(nlpd_list), np.std(nlpd_list)/np.sqrt(len(nlpd_list)))) \n",
    "    print()\n",
    "    \n",
    "    # Plot confidence-error curves\n",
    "\n",
    "    # 1e-14 instead of 0 to for numerical reasons!\n",
    "    confidence_percentiles = np.arange(1e-14, 100, 100/len(y_test))\n",
    "\n",
    "    # We plot the Mean-absolute error confidence-error curves\n",
    "\n",
    "    mae_mean = np.mean(mae_confidence_list, axis=0)\n",
    "    mae_std = np.std(mae_confidence_list, axis=0)\n",
    "\n",
    "    mae_mean = np.flip(mae_mean)\n",
    "    mae_std = np.flip(mae_std)\n",
    "\n",
    "    # 1 sigma errorbars\n",
    "\n",
    "    lower = mae_mean - mae_std\n",
    "    upper = mae_mean + mae_std\n",
    "    \n",
    "    fig = plt.figure()\n",
    "    plt.plot(confidence_percentiles, mae_mean, label='mean')\n",
    "    plt.fill_between(confidence_percentiles, lower, upper, alpha=0.2)\n",
    "    plt.xlabel('Confidence Percentile')\n",
    "    plt.ylabel('MAE')\n",
    "    plt.ylim([0, np.max(upper) + 1])\n",
    "    plt.xlim([0, 100 * ((len(y_test) - 1) / len(y_test))])\n",
    "    \n",
    "    results = {\n",
    "        'confidence_percentiles': confidence_percentiles,\n",
    "        'mae_mean': mae_mean,\n",
    "        'mae_std': mae_std,\n",
    "        'mae': mae_list,\n",
    "        'rmse': rmse_list,\n",
    "        'r2': r2_list,\n",
    "        'nlpd': nlpd_list,\n",
    "    }\n",
    "      \n",
    "    return results, fig\n"
   ]
  },
  {
   "cell_type": "markdown",
   "metadata": {},
   "source": [
    "## Load data"
   ]
  },
  {
   "cell_type": "code",
   "execution_count": 6,
   "metadata": {},
   "outputs": [
    {
     "name": "stdout",
     "output_type": "stream",
     "text": [
      "Data(x=[14, 2], edge_index=[2, 30], edge_attr=[30, 2])\n"
     ]
    }
   ],
   "source": [
    "dataset = 'Photoswitch'\n",
    "\n",
    "loader = DataLoaderMP()\n",
    "loader.load_benchmark(dataset, dataset_paths[dataset])\n",
    "smi = loader.features\n",
    "X = [mol_to_pyg(Chem.MolFromSmiles(s)) for s in smi]\n",
    "y = loader.labels\n",
    "\n",
    "print(X[0])"
   ]
  },
  {
   "cell_type": "code",
   "execution_count": 7,
   "metadata": {},
   "outputs": [
    {
     "name": "stdout",
     "output_type": "stream",
     "text": [
      "Device being used: cuda\n",
      "\n",
      "Beginning training loop...\n",
      "Starting trial 0\n"
     ]
    },
    {
     "name": "stderr",
     "output_type": "stream",
     "text": [
      " 55%|█████▍    | 164/300 [02:09<01:47,  1.26it/s, Epoch=164, loss=3.72, kl=1.18, mse=1.89, val_loss=0.5247301]   "
     ]
    },
    {
     "name": "stdout",
     "output_type": "stream",
     "text": [
      "Early stopping reached! Best validation loss 0.10347949713468552\n"
     ]
    },
    {
     "name": "stderr",
     "output_type": "stream",
     "text": [
      "\n"
     ]
    },
    {
     "name": "stdout",
     "output_type": "stream",
     "text": [
      "NLPD: 0.8441114245312396\n",
      "Starting trial 1\n"
     ]
    },
    {
     "name": "stderr",
     "output_type": "stream",
     "text": [
      " 64%|██████▍   | 193/300 [02:33<01:25,  1.25it/s, Epoch=193, loss=3.02, kl=1.07, mse=1.35, val_loss=0.9904764]  "
     ]
    },
    {
     "name": "stdout",
     "output_type": "stream",
     "text": [
      "Early stopping reached! Best validation loss 0.24087080359458923\n"
     ]
    },
    {
     "name": "stderr",
     "output_type": "stream",
     "text": [
      "\n"
     ]
    },
    {
     "name": "stdout",
     "output_type": "stream",
     "text": [
      "NLPD: 0.9170613483575529\n",
      "Starting trial 2\n"
     ]
    },
    {
     "name": "stderr",
     "output_type": "stream",
     "text": [
      " 24%|██▍       | 73/300 [00:57<02:59,  1.27it/s, Epoch=73, loss=3.29, kl=1.53, mse=0.9, val_loss=0.2852225]   "
     ]
    },
    {
     "name": "stdout",
     "output_type": "stream",
     "text": [
      "Early stopping reached! Best validation loss 0.20737366378307343\n"
     ]
    },
    {
     "name": "stderr",
     "output_type": "stream",
     "text": [
      "\n"
     ]
    },
    {
     "name": "stdout",
     "output_type": "stream",
     "text": [
      "NLPD: 0.7307432455316456\n",
      "Starting trial 3\n"
     ]
    },
    {
     "name": "stderr",
     "output_type": "stream",
     "text": [
      " 32%|███▏      | 96/300 [01:16<02:41,  1.26it/s, Epoch=96, loss=2.95, kl=1.57, mse=0.489, val_loss=0.14567526] "
     ]
    },
    {
     "name": "stdout",
     "output_type": "stream",
     "text": [
      "Early stopping reached! Best validation loss 0.0676688551902771\n"
     ]
    },
    {
     "name": "stderr",
     "output_type": "stream",
     "text": [
      "\n"
     ]
    },
    {
     "name": "stdout",
     "output_type": "stream",
     "text": [
      "NLPD: 0.6131936735952289\n",
      "Starting trial 4\n"
     ]
    },
    {
     "name": "stderr",
     "output_type": "stream",
     "text": [
      " 57%|█████▋    | 171/300 [02:21<01:46,  1.21it/s, Epoch=171, loss=3.1, kl=1.25, mse=1.15, val_loss=0.42069584]  "
     ]
    },
    {
     "name": "stdout",
     "output_type": "stream",
     "text": [
      "Early stopping reached! Best validation loss 0.24793900549411774\n"
     ]
    },
    {
     "name": "stderr",
     "output_type": "stream",
     "text": [
      "\n"
     ]
    },
    {
     "name": "stdout",
     "output_type": "stream",
     "text": [
      "NLPD: 0.9561484639041917\n",
      "Starting trial 5\n"
     ]
    },
    {
     "name": "stderr",
     "output_type": "stream",
     "text": [
      " 55%|█████▌    | 166/300 [02:16<01:50,  1.22it/s, Epoch=166, loss=2.7, kl=1.25, mse=0.739, val_loss=0.36277056] "
     ]
    },
    {
     "name": "stdout",
     "output_type": "stream",
     "text": [
      "Early stopping reached! Best validation loss 0.17589706182479858\n"
     ]
    },
    {
     "name": "stderr",
     "output_type": "stream",
     "text": [
      "\n"
     ]
    },
    {
     "name": "stdout",
     "output_type": "stream",
     "text": [
      "NLPD: 0.833261374440909\n",
      "Starting trial 6\n"
     ]
    },
    {
     "name": "stderr",
     "output_type": "stream",
     "text": [
      " 71%|███████   | 213/300 [02:47<01:08,  1.27it/s, Epoch=213, loss=3.46, kl=1.12, mse=1.71, val_loss=0.67860585] "
     ]
    },
    {
     "name": "stdout",
     "output_type": "stream",
     "text": [
      "Early stopping reached! Best validation loss 0.20277081429958344\n"
     ]
    },
    {
     "name": "stderr",
     "output_type": "stream",
     "text": [
      "\n"
     ]
    },
    {
     "name": "stdout",
     "output_type": "stream",
     "text": [
      "NLPD: 1.0321037000568738\n",
      "Starting trial 7\n"
     ]
    },
    {
     "name": "stderr",
     "output_type": "stream",
     "text": [
      " 33%|███▎      | 98/300 [01:23<02:51,  1.18it/s, Epoch=98, loss=4.45, kl=1.57, mse=2, val_loss=0.39693365]    "
     ]
    },
    {
     "name": "stdout",
     "output_type": "stream",
     "text": [
      "Early stopping reached! Best validation loss 0.1426558941602707\n"
     ]
    },
    {
     "name": "stderr",
     "output_type": "stream",
     "text": [
      "\n"
     ]
    },
    {
     "name": "stdout",
     "output_type": "stream",
     "text": [
      "NLPD: 0.8173472761629437\n",
      "Starting trial 8\n"
     ]
    },
    {
     "name": "stderr",
     "output_type": "stream",
     "text": [
      " 75%|███████▌  | 225/300 [03:03<01:01,  1.23it/s, Epoch=225, loss=2.73, kl=0.999, mse=1.17, val_loss=0.61965567]"
     ]
    },
    {
     "name": "stdout",
     "output_type": "stream",
     "text": [
      "Early stopping reached! Best validation loss 0.17350460588932037\n"
     ]
    },
    {
     "name": "stderr",
     "output_type": "stream",
     "text": [
      "\n"
     ]
    },
    {
     "name": "stdout",
     "output_type": "stream",
     "text": [
      "NLPD: 0.9193163903875375\n",
      "Starting trial 9\n"
     ]
    },
    {
     "name": "stderr",
     "output_type": "stream",
     "text": [
      " 64%|██████▍   | 193/300 [02:32<01:24,  1.27it/s, Epoch=193, loss=2.56, kl=1.11, mse=0.83, val_loss=0.38409716]  "
     ]
    },
    {
     "name": "stdout",
     "output_type": "stream",
     "text": [
      "Early stopping reached! Best validation loss 0.08719917386770248\n",
      "NLPD: 0.9175414481785454\n",
      "\n",
      "mean R^2: 0.8170 +- 0.0243\n",
      "mean RMSE: 27.4110 +- 1.5186\n",
      "mean MAE: 20.3295 +- 0.9732\n",
      "\n",
      "mean NLPD: 0.8581 +- 0.0360\n",
      "\n",
      "\n"
     ]
    },
    {
     "data": {
      "image/png": "[encoded data removed]",
      "text/plain": [
       "<Figure size 432x288 with 1 Axes>"
      ]
     },
     "metadata": {
      "needs_background": "light"
     },
     "output_type": "display_data"
    }
   ],
   "source": [
    "results, fig = evaluate_model(X, y, n_epochs=300, n_trials=10, kld_beta=50.0)\n",
    "fig.show()"
   ]
  },
  {
   "cell_type": "markdown",
   "metadata": {},
   "source": [
    "For graph features input, the results for the Bayesian GNN are below for the various datasets:\n",
    "\n",
    "| |Photoswitch | Freesolv | ESOL | Lipophilicity |\n",
    "|---|---|---|---|---|\n",
    "| R2 | 0.8048 +- 0.0155 | 0.7884 +- 0.0056 | 0.8224 +- 0.0044 | 0.6208 +- 0.0199 |\n",
    "| RMSE | 28.5302 +- 1.2050 | 0.9610 +- 0.0148  | 0.8800 +- 0.0098 |  0.7317 +- 0.0175 |\n",
    "| MAE | 20.7182 +- 0.9928 | 0.7264 +- 0.0161 | 0.6622 +- 0.0079 | 0.5328 +- 0.0111 |\n",
    "| NLPD | 0.9960 +- 0.1286 | 1.0060 +- 0.0153 | 1.6990 +- 0.1085 | 1.1406 +- 0.0120 |\n"
   ]
  },
  {
   "cell_type": "code",
   "execution_count": null,
   "metadata": {},
   "outputs": [],
   "source": []
  }
 ],
 "metadata": {
  "kernelspec": {
   "display_name": "gauche",
   "language": "python",
   "name": "gauche"
  },
  "language_info": {
   "codemirror_mode": {
    "name": "ipython",
    "version": 3
   },
   "file_extension": ".py",
   "mimetype": "text/x-python",
   "name": "python",
   "nbconvert_exporter": "python",
   "pygments_lexer": "ipython3",
   "version": "3.7.12"
  }
 },
 "nbformat": 4,
 "nbformat_minor": 2
}
