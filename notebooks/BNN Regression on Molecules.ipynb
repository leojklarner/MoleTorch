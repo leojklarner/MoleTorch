{
 "cells": [
  {
   "cell_type": "markdown",
   "metadata": {},
   "source": [
    "# BNN Regression on Molecules\n",
    "\n",
    "Here we will compare the regression of molecules for the given datasets using BNN with GPs. Here we rely on Bayesian linear layers from Bayesian-Torch (https://github.com/IntelLabs/bayesian-torch).\n",
    "\n",
    "The densely connected network will have weight *distributions* rather than deterministic weights. The uncertainty of the model will be obtained by repeatedly sampling the network for predictions."
   ]
  },
  {
   "cell_type": "markdown",
   "metadata": {},
   "source": [
    "## Set up datasets and import packages"
   ]
  },
  {
   "cell_type": "code",
   "execution_count": 9,
   "metadata": {
    "scrolled": true
   },
   "outputs": [
    {
     "name": "stderr",
     "output_type": "stream",
     "text": [
      "DEBUG:matplotlib.pyplot:Loaded backend module://matplotlib_inline.backend_inline version unknown.\n"
     ]
    }
   ],
   "source": [
    "import os, sys\n",
    "sys.path.append('..')\n",
    "\n",
    "import sklearn\n",
    "from gauche.dataloader import DataLoaderMP\n",
    "from gauche.dataloader.data_utils import transform_data\n",
    "\n",
    "import pandas as pd\n",
    "import numpy as np\n",
    "import rdkit.Chem.AllChem as Chem\n",
    "import matplotlib.pyplot as plt\n",
    "import matplotlib\n",
    "%matplotlib inline  \n",
    "\n",
    "from scipy.stats import norm\n",
    "\n",
    "from sklearn.model_selection import train_test_split\n",
    "from sklearn.metrics import mean_absolute_error, mean_squared_error, r2_score\n",
    "\n",
    "import torch\n",
    "import torch.nn as nn\n",
    "import torch.nn.functional as F\n",
    "\n",
    "from bayesian_torch.layers import LinearFlipout, LinearReparameterization"
   ]
  },
  {
   "cell_type": "code",
   "execution_count": 2,
   "metadata": {},
   "outputs": [],
   "source": [
    "# set paths\n",
    "dataset_paths = {\n",
    "    \"Photoswitch\": \"../data/property_prediction/photoswitches.csv\",\n",
    "    \"ESOL\": \"../data/property_prediction/ESOL.csv\",\n",
    "    \"FreeSolv\": \"../data/property_prediction/FreeSolv.csv\",\n",
    "    \"Lipophilicity\": \"../data/property_prediction/Lipophilicity.csv\",\n",
    "}\n",
    "    "
   ]
  },
  {
   "cell_type": "markdown",
   "metadata": {},
   "source": [
    "## Create model\n"
   ]
  },
  {
   "cell_type": "code",
   "execution_count": 3,
   "metadata": {},
   "outputs": [],
   "source": [
    "class BNN(nn.Module):\n",
    "    def __init__(self, input_dim, hidden_dim, output_dim=1):\n",
    "        super().__init__()\n",
    "        self.layer1 = LinearReparameterization(input_dim, hidden_dim)\n",
    "        self.layerf = nn.Linear(hidden_dim, output_dim)\n",
    "        \n",
    "    def forward(self, x):\n",
    "        kl_sum = 0\n",
    "        x, kl = self.layer1(x)\n",
    "        kl_sum += kl\n",
    "        x = F.relu(x)\n",
    "        x = self.layerf(x)\n",
    "        return x, kl_sum"
   ]
  },
  {
   "cell_type": "code",
   "execution_count": 4,
   "metadata": {},
   "outputs": [],
   "source": [
    "def nlpd(y, y_pred, y_std):\n",
    "    nld = 0\n",
    "    for y_true, mu, std in zip(y.ravel(), y_pred.ravel(), y_std.ravel()):\n",
    "        nld  += -norm(mu, std).logpdf(y_true)\n",
    "    return nld / len(y)\n",
    "\n",
    "def predict(regressor, X, samples = 100):\n",
    "    preds = [regressor(X)[0] for i in range(samples)]\n",
    "    preds = torch.stack(preds)\n",
    "    means = preds.mean(axis=0)\n",
    "    var = preds.var(axis=0)\n",
    "    return means, var"
   ]
  },
  {
   "cell_type": "code",
   "execution_count": 1,
   "metadata": {},
   "outputs": [],
   "source": [
    "from tqdm import tqdm\n",
    "import copy\n",
    "\n",
    "def evaluate_model(X, y, n_epochs=100, n_trials=20, kld_beta = 1., verbose=True):\n",
    "    test_set_size = 0.2\n",
    "    batch_size = 32\n",
    "    \n",
    "    r2_list = []\n",
    "    rmse_list = []\n",
    "    mae_list = []\n",
    "    nlpd_list = []\n",
    "    \n",
    "    # We pre-allocate array for plotting confidence-error curves\n",
    "\n",
    "    _, _, _, y_test = train_test_split(X, y, test_size=test_set_size)  # To get test set size\n",
    "    n_test = len(y_test)\n",
    "    \n",
    "    mae_confidence_list = np.zeros((n_trials, n_test))\n",
    "    \n",
    "    device = torch.device('cpu') # torch.device('cuda') if torch.cuda.is_available() else torch.device('cpu')\n",
    "    print(f'Device being used: {device}')\n",
    "    \n",
    "    print('\\nBeginning training loop...')\n",
    "\n",
    "    for i in range(0, n_trials):\n",
    "        \n",
    "        print(f'Starting trial {i}')\n",
    "                \n",
    "        X_train, X_test, y_train, y_test = train_test_split(X, y, test_size=test_set_size, random_state=i)\n",
    "\n",
    "        #  We standardise the outputs but leave the inputs unchanged\n",
    "        _, y_train, _, y_test, y_scaler = transform_data(X_train, y_train, X_test, y_test)\n",
    "\n",
    "        # Convert numpy arrays to PyTorch tensors and flatten the label vectors\n",
    "        X_train = torch.tensor(X_train, dtype=torch.float).to(device)\n",
    "        X_test = torch.tensor(X_test, dtype=torch.float).to(device)\n",
    "        y_train = torch.tensor(y_train, dtype=torch.float).to(device)\n",
    "        y_test = torch.tensor(y_test, dtype=torch.float).to(device)\n",
    "\n",
    "        model = BNN(X_train.shape[-1], 100).to(device)\n",
    "        optimizer = torch.optim.Adam(model.parameters(), lr=0.01)\n",
    "        criterion = torch.nn.MSELoss()\n",
    "        \n",
    "        ds_train = torch.utils.data.TensorDataset(X_train, y_train)\n",
    "        dataloader_train = torch.utils.data.DataLoader(ds_train, batch_size=batch_size, shuffle=True)\n",
    "        \n",
    "        training_loss = []\n",
    "    \n",
    "        status = {}\n",
    "        best_loss = np.inf\n",
    "        patience = 50\n",
    "        count = 0\n",
    "        pbar = tqdm(range(n_epochs))\n",
    "        for epoch in pbar:\n",
    "            running_kld_loss = 0\n",
    "            running_mse_loss = 0\n",
    "            running_loss = 0\n",
    "            for datapoints, labels in dataloader_train:\n",
    "                optimizer.zero_grad()\n",
    "                \n",
    "                output, kl = model(datapoints)\n",
    "                \n",
    "                # calculate loss with kl term for Bayesian layers\n",
    "                mse_loss = criterion(output, labels)\n",
    "                loss = mse_loss + kl * kld_beta / batch_size\n",
    "                \n",
    "                loss.backward()\n",
    "                optimizer.step()\n",
    "                \n",
    "                running_mse_loss += mse_loss.detach().numpy()\n",
    "                running_kld_loss += kl.detach().numpy()\n",
    "                running_loss += loss.detach().numpy()\n",
    "                \n",
    "            status.update({\n",
    "                'Epoch': epoch, \n",
    "                'loss': running_loss/len(dataloader_train),\n",
    "                'kl': running_kld_loss/len(dataloader_train),\n",
    "                'mse': running_mse_loss/len(dataloader_train)\n",
    "            })\n",
    "            training_loss.append(status)\n",
    "            pbar.set_postfix(status)\n",
    "            \n",
    "            with torch.no_grad():\n",
    "                y_pred, y_var = predict(model, X_test)\n",
    "                val_loss = criterion(y_pred, y_test)\n",
    "                val_loss = val_loss.detach().numpy()\n",
    "                status.update({'val_loss': val_loss})\n",
    "                \n",
    "                if best_loss > val_loss:\n",
    "                    best_loss = val_loss\n",
    "                    best_model = copy.deepcopy(model)\n",
    "                    count = 0\n",
    "                else:\n",
    "                    count += 1\n",
    "                \n",
    "                if count >= patience:\n",
    "                    if verbose: print(f'Early stopping reached! Best validation loss {best_loss}')\n",
    "                    break \n",
    "            \n",
    "            pbar.set_postfix(status)\n",
    "\n",
    "        # Get into evaluation (predictive posterior) mode\n",
    "        model = best_model\n",
    "        model.eval()\n",
    "        \n",
    "        with torch.no_grad():\n",
    "            # mean and variance by sampling\n",
    "            y_pred, y_var = predict(model, X_test, samples=100)\n",
    "            \n",
    "        uq_nlpd = nlpd(y_test.detach(), y_pred.detach(), np.sqrt(y_var.detach()))\n",
    "        if verbose: print(f'NLPD: {uq_nlpd}')\n",
    "\n",
    "        # Transform back to real data space to compute metrics and detach gradients.\n",
    "        y_pred = y_scaler.inverse_transform(y_pred.detach())\n",
    "        y_test = y_scaler.inverse_transform(y_test.detach())\n",
    "\n",
    "        # Compute scores for confidence curve plotting.\n",
    "        ranked_confidence_list = np.argsort(y_var.detach(), axis=0).flatten()\n",
    "\n",
    "        for k in range(len(y_test)):\n",
    "\n",
    "            # Construct the MAE error for each level of confidence\n",
    "            conf = ranked_confidence_list[0:k+1]\n",
    "            mae = mean_absolute_error(y_test[conf], y_pred[conf])\n",
    "            mae_confidence_list[i, k] = mae\n",
    "\n",
    "        # Compute R^2, RMSE and MAE on Test set\n",
    "        score = r2_score(y_test, y_pred)\n",
    "        rmse = np.sqrt(mean_squared_error(y_test, y_pred))\n",
    "        mae = mean_absolute_error(y_test, y_pred)\n",
    "\n",
    "        r2_list.append(score)\n",
    "        rmse_list.append(rmse)\n",
    "        mae_list.append(mae)\n",
    "        nlpd_list.append(uq_nlpd)\n",
    "        \n",
    "    r2_list = np.array(r2_list)\n",
    "    rmse_list = np.array(rmse_list)\n",
    "    mae_list = np.array(mae_list)\n",
    "    nlpd_list = np.array(nlpd_list)\n",
    "        \n",
    "    print(\"\\nmean R^2: {:.4f} +- {:.4f}\".format(np.mean(r2_list), np.std(r2_list)/np.sqrt(len(r2_list))))\n",
    "    print(\"mean RMSE: {:.4f} +- {:.4f}\".format(np.mean(rmse_list), np.std(rmse_list)/np.sqrt(len(rmse_list))))\n",
    "    print(\"mean MAE: {:.4f} +- {:.4f}\\n\".format(np.mean(mae_list), np.std(mae_list)/np.sqrt(len(mae_list)))) \n",
    "    print(\"mean NLPD: {:.4f} +- {:.4f}\\n\".format(np.mean(nlpd_list), np.std(nlpd_list)/np.sqrt(len(nlpd_list)))) \n",
    "    print()\n",
    "    \n",
    "    # Plot confidence-error curves\n",
    "\n",
    "    # 1e-14 instead of 0 to for numerical reasons!\n",
    "    confidence_percentiles = np.arange(1e-14, 100, 100/len(y_test))\n",
    "\n",
    "    # We plot the Mean-absolute error confidence-error curves\n",
    "\n",
    "    mae_mean = np.mean(mae_confidence_list, axis=0)\n",
    "    mae_std = np.std(mae_confidence_list, axis=0)\n",
    "\n",
    "    mae_mean = np.flip(mae_mean)\n",
    "    mae_std = np.flip(mae_std)\n",
    "\n",
    "    # 1 sigma errorbars\n",
    "\n",
    "    lower = mae_mean - mae_std\n",
    "    upper = mae_mean + mae_std\n",
    "    \n",
    "    fig = plt.figure()\n",
    "    plt.plot(confidence_percentiles, mae_mean, label='mean')\n",
    "    plt.fill_between(confidence_percentiles, lower, upper, alpha=0.2)\n",
    "    plt.xlabel('Confidence Percentile')\n",
    "    plt.ylabel('MAE')\n",
    "    plt.ylim([0, np.max(upper) + 1])\n",
    "    plt.xlim([0, 100 * ((len(y_test) - 1) / len(y_test))])\n",
    "    \n",
    "    results = {\n",
    "        'confidence_percentiles': confidence_percentiles,\n",
    "        'mae_mean': mae_mean,\n",
    "        'mae_std': mae_std,\n",
    "        'mae': mae_list,\n",
    "        'rmse': rmse_list,\n",
    "        'r2': r2_list,\n",
    "        'nlpd': nlpd_list,\n",
    "    }\n",
    "      \n",
    "    return results, fig\n"
   ]
  },
  {
   "cell_type": "code",
   "execution_count": 7,
   "metadata": {},
   "outputs": [
    {
     "name": "stdout",
     "output_type": "stream",
     "text": [
      "Performing for Photoswitch with feature fragprints\n",
      "Device being used: cpu\n",
      "\n",
      "Beginning training loop...\n",
      "Starting trial 0\n"
     ]
    },
    {
     "name": "stderr",
     "output_type": "stream",
     "text": [
      " 21%|██▏       | 64/300 [00:22<01:23,  2.84it/s, Epoch=64, loss=0.538, kl=0.292, mse=0.081, val_loss=0.10480269]  \n"
     ]
    },
    {
     "name": "stdout",
     "output_type": "stream",
     "text": [
      "Starting trial 1\n"
     ]
    },
    {
     "name": "stderr",
     "output_type": "stream",
     "text": [
      " 55%|█████▍    | 164/300 [00:57<00:47,  2.85it/s, Epoch=164, loss=0.148, kl=0.0731, mse=0.0333, val_loss=0.14452781]\n"
     ]
    },
    {
     "name": "stdout",
     "output_type": "stream",
     "text": [
      "Starting trial 2\n"
     ]
    },
    {
     "name": "stderr",
     "output_type": "stream",
     "text": [
      " 37%|███▋      | 112/300 [00:38<01:05,  2.88it/s, Epoch=112, loss=0.25, kl=0.141, mse=0.0304, val_loss=0.14986287] \n"
     ]
    },
    {
     "name": "stdout",
     "output_type": "stream",
     "text": [
      "Starting trial 3\n"
     ]
    },
    {
     "name": "stderr",
     "output_type": "stream",
     "text": [
      " 38%|███▊      | 114/300 [00:39<01:05,  2.85it/s, Epoch=114, loss=0.234, kl=0.135, mse=0.0235, val_loss=0.1215738]  \n"
     ]
    },
    {
     "name": "stdout",
     "output_type": "stream",
     "text": [
      "Starting trial 4\n"
     ]
    },
    {
     "name": "stderr",
     "output_type": "stream",
     "text": [
      " 20%|██        | 61/300 [00:21<01:23,  2.85it/s, Epoch=61, loss=0.512, kl=0.304, mse=0.0369, val_loss=0.16661622]\n"
     ]
    },
    {
     "name": "stdout",
     "output_type": "stream",
     "text": [
      "Starting trial 5\n"
     ]
    },
    {
     "name": "stderr",
     "output_type": "stream",
     "text": [
      " 21%|██        | 63/300 [00:23<01:27,  2.71it/s, Epoch=63, loss=0.497, kl=0.29, mse=0.0442, val_loss=0.16775055] \n"
     ]
    },
    {
     "name": "stdout",
     "output_type": "stream",
     "text": [
      "Starting trial 6\n"
     ]
    },
    {
     "name": "stderr",
     "output_type": "stream",
     "text": [
      " 40%|████      | 120/300 [00:43<01:05,  2.76it/s, Epoch=120, loss=0.201, kl=0.113, mse=0.0241, val_loss=0.086759485]\n"
     ]
    },
    {
     "name": "stdout",
     "output_type": "stream",
     "text": [
      "Starting trial 7\n"
     ]
    },
    {
     "name": "stderr",
     "output_type": "stream",
     "text": [
      " 17%|█▋        | 52/300 [00:18<01:30,  2.75it/s, Epoch=52, loss=0.634, kl=0.347, mse=0.0927, val_loss=0.22597566]\n"
     ]
    },
    {
     "name": "stdout",
     "output_type": "stream",
     "text": [
      "Starting trial 8\n"
     ]
    },
    {
     "name": "stderr",
     "output_type": "stream",
     "text": [
      " 24%|██▍       | 73/300 [00:26<01:22,  2.76it/s, Epoch=73, loss=0.406, kl=0.242, mse=0.0283, val_loss=0.107546285]\n"
     ]
    },
    {
     "name": "stdout",
     "output_type": "stream",
     "text": [
      "Starting trial 9\n"
     ]
    },
    {
     "name": "stderr",
     "output_type": "stream",
     "text": [
      " 36%|███▌      | 108/300 [00:39<01:09,  2.76it/s, Epoch=108, loss=0.283, kl=0.154, mse=0.0424, val_loss=0.07117495] \n"
     ]
    },
    {
     "name": "stdout",
     "output_type": "stream",
     "text": [
      "Starting trial 10\n"
     ]
    },
    {
     "name": "stderr",
     "output_type": "stream",
     "text": [
      " 25%|██▍       | 74/300 [00:26<01:21,  2.78it/s, Epoch=74, loss=0.388, kl=0.232, mse=0.0256, val_loss=0.1778871] \n"
     ]
    },
    {
     "name": "stdout",
     "output_type": "stream",
     "text": [
      "Starting trial 11\n"
     ]
    },
    {
     "name": "stderr",
     "output_type": "stream",
     "text": [
      " 20%|█▉        | 59/300 [00:21<01:27,  2.75it/s, Epoch=59, loss=0.492, kl=0.292, mse=0.0353, val_loss=0.07950969] \n"
     ]
    },
    {
     "name": "stdout",
     "output_type": "stream",
     "text": [
      "Starting trial 12\n"
     ]
    },
    {
     "name": "stderr",
     "output_type": "stream",
     "text": [
      " 28%|██▊       | 83/300 [00:29<01:17,  2.79it/s, Epoch=83, loss=0.329, kl=0.193, mse=0.0274, val_loss=0.11056276] \n"
     ]
    },
    {
     "name": "stdout",
     "output_type": "stream",
     "text": [
      "Starting trial 13\n"
     ]
    },
    {
     "name": "stderr",
     "output_type": "stream",
     "text": [
      " 93%|█████████▎| 279/300 [01:41<00:07,  2.76it/s, Epoch=279, loss=0.0773, kl=0.0326, mse=0.0263, val_loss=0.08868577] \n"
     ]
    },
    {
     "name": "stdout",
     "output_type": "stream",
     "text": [
      "Starting trial 14\n"
     ]
    },
    {
     "name": "stderr",
     "output_type": "stream",
     "text": [
      " 29%|██▊       | 86/300 [00:30<01:16,  2.78it/s, Epoch=86, loss=0.348, kl=0.204, mse=0.0304, val_loss=0.11376184] \n"
     ]
    },
    {
     "name": "stdout",
     "output_type": "stream",
     "text": [
      "Starting trial 15\n"
     ]
    },
    {
     "name": "stderr",
     "output_type": "stream",
     "text": [
      " 30%|███       | 91/300 [00:32<01:14,  2.81it/s, Epoch=91, loss=0.345, kl=0.176, mse=0.0704, val_loss=0.1045553]  \n"
     ]
    },
    {
     "name": "stdout",
     "output_type": "stream",
     "text": [
      "Starting trial 16\n"
     ]
    },
    {
     "name": "stderr",
     "output_type": "stream",
     "text": [
      " 37%|███▋      | 112/300 [00:41<01:10,  2.68it/s, Epoch=112, loss=0.233, kl=0.129, mse=0.0321, val_loss=0.09936037] \n"
     ]
    },
    {
     "name": "stdout",
     "output_type": "stream",
     "text": [
      "Starting trial 17\n"
     ]
    },
    {
     "name": "stderr",
     "output_type": "stream",
     "text": [
      " 23%|██▎       | 69/300 [00:25<01:24,  2.74it/s, Epoch=69, loss=0.444, kl=0.259, mse=0.0384, val_loss=0.14046636]\n"
     ]
    },
    {
     "name": "stdout",
     "output_type": "stream",
     "text": [
      "Starting trial 18\n"
     ]
    },
    {
     "name": "stderr",
     "output_type": "stream",
     "text": [
      " 41%|████▏     | 124/300 [00:45<01:04,  2.71it/s, Epoch=124, loss=0.218, kl=0.113, mse=0.0422, val_loss=0.15129383]\n"
     ]
    },
    {
     "name": "stdout",
     "output_type": "stream",
     "text": [
      "Starting trial 19\n"
     ]
    },
    {
     "name": "stderr",
     "output_type": "stream",
     "text": [
      " 27%|██▋       | 80/300 [00:29<01:19,  2.76it/s, Epoch=80, loss=0.381, kl=0.222, mse=0.0344, val_loss=0.12504384] \n"
     ]
    },
    {
     "name": "stdout",
     "output_type": "stream",
     "text": [
      "\n",
      "mean R^2: 0.8968 +- 0.0055\n",
      "mean RMSE: 20.9019 +- 0.6000\n",
      "mean MAE: 13.9983 +- 0.3698\n",
      "\n",
      "mean NLPD: 1.9396 +- 0.4468\n",
      "\n",
      "\n"
     ]
    },
    {
     "data": {
      "image/png": "[encoded data removed]",
      "text/plain": [
       "<Figure size 432x288 with 1 Axes>"
      ]
     },
     "metadata": {
      "needs_background": "light"
     },
     "output_type": "display_data"
    }
   ],
   "source": [
    "dataset = 'Photoswitch'\n",
    "feature = 'fragprints'\n",
    "\n",
    "print(f'Performing for {dataset} with feature {feature}')\n",
    "loader = DataLoaderMP()\n",
    "loader.load_benchmark(dataset, dataset_paths[dataset])\n",
    "loader.featurize(feature)\n",
    "X = loader.features\n",
    "y = loader.labels\n",
    "\n",
    "# results_all_datasets\n",
    "results, fig = evaluate_model(X, y, 300, 20, 50.0, verbose=False)\n",
    "fig.show()"
   ]
  },
  {
   "cell_type": "markdown",
   "metadata": {},
   "source": [
    "Results for the features and datasets are shown below:\n",
    "\n",
    "Fragprints\n",
    "\n",
    "| |Photoswitch | Freesolv | ESOL | Lipophilicity |\n",
    "|---|---|---|---|---|\n",
    "| R2 | 0.8961 +- 0.0061 | 0.8682 +- 0.0071 | 0.8224 +- 0.0044 | 0.6081 +- 0.0042 |\n",
    "| RMSE | 20.9166 +- 0.6331 | 1.3890 +- 0.0257  | 0.8800 +- 0.0098 |  0.7486 +- 0.0057 |\n",
    "| MAE | 13.9447 +- 0.4163 | 0.9882 +- 0.0179 | 0.6622 +- 0.0079 | 0.5633 +- 0.0038 |\n",
    "| NLPD | 1.6276 +- 0.4415 | 1.4109 +- 0.3837 | 1.6990 +- 0.1085 | 3.8197 +- 0.1249 |\n",
    "\n",
    "Fingerprints\n",
    "\n",
    "| |Photoswitch | Freesolv | ESOL | Lipophilicity |\n",
    "|---|---|---|---|---|\n",
    "| R2 | 0.8810 +- 0.0067 | 0.7539 +- 0.0101 | 0.7345 +- 0.0069 | 0.5447 +- 0.0040 |\n",
    "| RMSE | 22.4266 +- 0.6951 | 1.9266 +- 0.0661 | 1.0764 +- 0.0157 |   0.8069 +- 0.0054 |\n",
    "| MAE | 15.1349 +- 0.4448 | 1.2814 +- 0.0259 | 0.8066 +- 0.0125 | 0.6094 +- 0.0040 |\n",
    "| NLPD | 2.2239 +- 0.5572 | 2.6472 +- 0.7168 | 2.5872 +- 0.3988 | 3.7413 +- 0.0994 |\n",
    "\n",
    "Fragments \n",
    "\n",
    "| |Photoswitch | Freesolv | ESOL | Lipophilicity |\n",
    "|---|---|---|---|---|\n",
    "| R2 | 0.8434 +- 0.0075 |  0.8512 +- 0.0075 | 0.7543 +- 0.0065 | 0.4664 +- 0.0050 |\n",
    "| RMSE | 25.7921 +- 0.7046 | 1.4760 +- 0.0231 | 1.0348 +- 0.0132 | 0.8735 +- 0.0056 |\n",
    "| MAE | 18.8276 +- 0.4296 | 1.0239 +- 0.0127 | 0.7979 +- 0.0099 | 0.6868 +- 0.0047 |\n",
    "| NLPD | 0.6944 +- 0.0908 | 0.8909 +- 0.1154 | 1.9314 +- 0.2828 | 5.5246 +- 0.2277 |"
   ]
  },
  {
   "cell_type": "code",
   "execution_count": null,
   "metadata": {},
   "outputs": [],
   "source": []
  }
 ],
 "metadata": {
  "kernelspec": {
   "display_name": "gauche",
   "language": "python",
   "name": "gauche"
  },
  "language_info": {
   "codemirror_mode": {
    "name": "ipython",
    "version": 3
   },
   "file_extension": ".py",
   "mimetype": "text/x-python",
   "name": "python",
   "nbconvert_exporter": "python",
   "pygments_lexer": "ipython3",
   "version": "3.7.12"
  }
 },
 "nbformat": 4,
 "nbformat_minor": 2
}
