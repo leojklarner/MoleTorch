{
 "cells": [
  {
   "cell_type": "markdown",
   "id": "213d6cca",
   "metadata": {},
   "source": [
    "# GP Regression on Molecules #\n",
    "\n",
    "An example notebook for basic GP regression on a molecular dataset using a Tanimoto fingerprint kernel and the Photoswitch Dataset:\n",
    "\n",
    "Paper: https://arxiv.org/abs/2008.03226\n",
    "\n",
    "Code: https://github.com/Ryan-Rhys/The-Photoswitch-Dataset\n",
    "\n"
   ]
  },
  {
   "cell_type": "code",
   "execution_count": null,
   "id": "9b75e9c0",
   "metadata": {},
   "outputs": [],
   "source": [
    "# Imports\n",
    "\n",
    "# To import from the gprotorch package\n",
    "import sys\n",
    "sys.path.append('..')\n",
    "\n",
    "from botorch import fit_gpytorch_model\n",
    "import gpytorch\n",
    "import numpy as np\n",
    "from sklearn.model_selection import train_test_split\n",
    "from sklearn.metrics import r2_score, mean_squared_error, mean_absolute_error\n",
    "import torch\n",
    "\n",
    "from gprotorch.dataloader import DataLoaderMP\n",
    "from gprotorch.dataloader.data_utils import transform_data"
   ]
  },
  {
   "cell_type": "markdown",
   "id": "5860580f",
   "metadata": {},
   "source": [
    "We define our model. See\n",
    "\n",
    "https://docs.gpytorch.ai/en/latest/examples/01_Exact_GPs/Simple_GP_Regression.html\n",
    "\n",
    "for further examples!\n"
   ]
  },
  {
   "cell_type": "code",
   "execution_count": null,
   "id": "856e6d07",
   "metadata": {},
   "outputs": [],
   "source": [
    "# We define our GP model using the Tanimoto kernel\n",
    "\n",
    "from gprotorch.kernels.fingerprint_kernels.tanimoto_kernel import TanimotoKernel\n",
    "\n",
    "class ExactGPModel(gpytorch.models.ExactGP):\n",
    "    def __init__(self, train_x, train_y, likelihood):\n",
    "        super(ExactGPModel, self).__init__(train_x, train_y, likelihood)\n",
    "        self.mean_module = gpytorch.means.ConstantMean()\n",
    "        # We use the Tanimoto kernel to work with molecular fingerprint representations\n",
    "        self.covar_module = gpytorch.kernels.ScaleKernel(TanimotoKernel())\n",
    "\n",
    "    def forward(self, x):\n",
    "        mean_x = self.mean_module(x)\n",
    "        covar_x = self.covar_module(x)\n",
    "        return gpytorch.distributions.MultivariateNormal(mean_x, covar_x)"
   ]
  },
  {
   "cell_type": "markdown",
   "id": "97f34aff",
   "metadata": {},
   "source": [
    "We define our experiment parameters. In this case we are reproducing the results of the E isomer transition wavelength prediction task from https://arxiv.org/abs/2008.03226 using 20 random splits in the ratio 80/20."
   ]
  },
  {
   "cell_type": "code",
   "execution_count": null,
   "id": "bb55fb31",
   "metadata": {},
   "outputs": [],
   "source": [
    "# Regression experiments parameters, number of random splits and split size\n",
    "\n",
    "n_trials = 20\n",
    "test_set_size = 0.2"
   ]
  },
  {
   "cell_type": "markdown",
   "id": "4869a3a8",
   "metadata": {},
   "source": [
    "Load the Photoswitch Dataset via the DataLoaderMP class which contains several molecular property prediction benchmark datasets!"
   ]
  },
  {
   "cell_type": "code",
   "execution_count": null,
   "id": "a3b1f1de",
   "metadata": {},
   "outputs": [],
   "source": [
    "# Load the Photoswitch dataset\n",
    "\n",
    "loader = DataLoaderMP()\n",
    "loader.load_benchmark(\"Photoswitch\", \"../data/property_prediction/photoswitches.csv\")\n",
    "\n",
    "# Featurise the molecules. \n",
    "# We use the fragprints representations (a concatenation of Morgan fingerprints and RDKit fragment features)\n",
    "\n",
    "loader.featurize('fragprints')\n",
    "X = loader.features\n",
    "y = loader.labels\n",
    "\n",
    "# initialise performance metric lists\n",
    "\n",
    "r2_list = []\n",
    "rmse_list = []\n",
    "mae_list = []"
   ]
  },
  {
   "cell_type": "markdown",
   "id": "74d8d83b",
   "metadata": {},
   "source": [
    "The training/evaluation loop"
   ]
  },
  {
   "cell_type": "code",
   "execution_count": null,
   "id": "d65519c3",
   "metadata": {},
   "outputs": [],
   "source": [
    "for i in range(0, n_trials):\n",
    "\n",
    "    X_train, X_test, y_train, y_test = train_test_split(X, y, test_size=test_set_size, random_state=i)\n",
    "\n",
    "    #  We standardise the outputs but leave the inputs unchanged\n",
    "    _, y_train, _, y_test, y_scaler = transform_data(X_train, y_train, X_test, y_test)\n",
    "\n",
    "    # Convert numpy arrays to PyTorch tensors and flatten the label vectors\n",
    "    X_train = torch.tensor(X_train.astype(np.float64))\n",
    "    X_test = torch.tensor(X_test.astype(np.float64))\n",
    "    y_train = torch.tensor(y_train).flatten()\n",
    "    y_test = torch.tensor(y_test).flatten()\n",
    "\n",
    "    # initialise GP likelihood and model\n",
    "    likelihood = gpytorch.likelihoods.GaussianLikelihood()\n",
    "    model = ExactGPModel(X_train, y_train, likelihood)\n",
    "\n",
    "    # Find optimal model hyperparameters\n",
    "    model.train()\n",
    "    likelihood.train()\n",
    "\n",
    "    # \"Loss\" for GPs - the marginal log likelihood\n",
    "    mll = gpytorch.mlls.ExactMarginalLogLikelihood(likelihood, model)\n",
    "\n",
    "    # Use the BoTorch utility for fitting GPs in order to use the LBFGS-B optimiser (recommended)\n",
    "    fit_gpytorch_model(mll)\n",
    "\n",
    "    # Get into evaluation (predictive posterior) mode\n",
    "    model.eval()\n",
    "    likelihood.eval()\n",
    "\n",
    "    # mean and variance GP prediction\n",
    "    f_pred = model(X_test)\n",
    "\n",
    "    y_pred = f_pred.mean\n",
    "    y_var = f_pred.variance\n",
    "\n",
    "    # Transform back to real data space to compute metrics and detach gradients. Must unsqueeze dimension\n",
    "    # to make compatible with inverse_transform in scikit-learn version > 1\n",
    "    y_pred = y_scaler.inverse_transform(y_pred.detach().unsqueeze(dim=1))\n",
    "    y_test = y_scaler.inverse_transform(y_test.detach().unsqueeze(dim=1))\n",
    "\n",
    "    # Output Standardised RMSE and RMSE on Train Set\n",
    "    y_train = y_train.detach()\n",
    "    y_pred_train = model(X_train).mean.detach()\n",
    "    train_rmse_stan = np.sqrt(mean_squared_error(y_train, y_pred_train))\n",
    "    train_rmse = np.sqrt(mean_squared_error(y_scaler.inverse_transform(y_train.unsqueeze(dim=1)), y_scaler.inverse_transform(y_pred_train.unsqueeze(dim=1))))\n",
    "    print(\"\\nStandardised Train RMSE: {:.3f}\".format(train_rmse_stan))\n",
    "    print(\"Train RMSE: {:.3f}\".format(train_rmse))\n",
    "\n",
    "    # Compute R^2, RMSE and MAE on Test set\n",
    "    score = r2_score(y_test, y_pred)\n",
    "    rmse = np.sqrt(mean_squared_error(y_test, y_pred))\n",
    "    mae = mean_absolute_error(y_test, y_pred)\n",
    "\n",
    "    print(\"\\nR^2: {:.3f}\".format(score))\n",
    "    print(\"RMSE: {:.3f}\".format(rmse))\n",
    "    print(\"MAE: {:.3f}\".format(mae))\n",
    "\n",
    "    r2_list.append(score)\n",
    "    rmse_list.append(rmse)\n",
    "    mae_list.append(mae)\n",
    "\n",
    "r2_list = np.array(r2_list)\n",
    "rmse_list = np.array(rmse_list)\n",
    "mae_list = np.array(mae_list)\n",
    "\n",
    "print(\"\\nmean R^2: {:.4f} +- {:.4f}\".format(np.mean(r2_list), np.std(r2_list)/np.sqrt(len(r2_list))))\n",
    "print(\"mean RMSE: {:.4f} +- {:.4f}\".format(np.mean(rmse_list), np.std(rmse_list)/np.sqrt(len(rmse_list))))\n",
    "print(\"mean MAE: {:.4f} +- {:.4f}\\n\".format(np.mean(mae_list), np.std(mae_list)/np.sqrt(len(mae_list))))"
   ]
  },
  {
   "cell_type": "markdown",
   "id": "e106af6a",
   "metadata": {},
   "source": [
    "The mean RMSE should be ca. 20.9 +- 0.7 nanometres!"
   ]
  }
 ],
 "metadata": {
  "kernelspec": {
   "display_name": "Python 3 (ipykernel)",
   "language": "python",
   "name": "python3"
  },
  "language_info": {
   "codemirror_mode": {
    "name": "ipython",
    "version": 3
   },
   "file_extension": ".py",
   "mimetype": "text/x-python",
   "name": "python",
   "nbconvert_exporter": "python",
   "pygments_lexer": "ipython3",
   "version": "3.8.0"
  }
 },
 "nbformat": 4,
 "nbformat_minor": 5
}